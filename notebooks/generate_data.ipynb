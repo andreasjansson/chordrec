{
 "metadata": {
  "name": "",
  "signature": "sha256:5a2bd1aee0136e9f52894604ada2670f57f992074f2ad5e27c7bc9ee79664098"
 },
 "nbformat": 3,
 "nbformat_minor": 0,
 "worksheets": [
  {
   "cells": [
    {
     "cell_type": "code",
     "collapsed": false,
     "input": [
      "import matplotlib.pyplot as plt\n",
      "%matplotlib inline\n",
      "plt.rcParams['figure.figsize'] = (10.0, 8.0)\n",
      "imshow = lambda x, *args, **kwargs: plt.imshow(x, interpolation='none', aspect='auto', cmap='hot', *args, **kwargs)\n",
      "\n",
      "#AWS_ACCESS_KEY_ID = 'fill me out'\n",
      "#AWS_SECRET_ACCESS_KEY = 'fill me out'\n",
      "#S3_BUCKET = 'fill me out'\n",
      "\n",
      "# TODO: remove some of these dependencies\n",
      "!pip install -q git+https://github.com/andreasjansson/andreasmusic.git\n",
      "!pip install -q simplejson\n",
      "!curl -s 'https://raw.githubusercontent.com/andreasjansson/chordrec/master/python/chordrec/mcgill.py' > mcgill.py\n",
      "import mcgill\n",
      "\n",
      "from StringIO import StringIO\n",
      "import numpy as np\n",
      "import theano\n",
      "import theano.tensor as T\n",
      "from theano.tensor.nnet import conv\n",
      "from theano.tensor.signal import downsample\n",
      "import cPickle\n",
      "\n",
      "from boto.s3.connection import S3Connection\n",
      "from boto.s3.key import Key\n",
      "\n",
      "def s3_get(path, unpickle=False):\n",
      "    conn = S3Connection(AWS_ACCESS_KEY_ID, AWS_SECRET_ACCESS_KEY)\n",
      "    bucket = conn.get_bucket(S3_BUCKET)\n",
      "    key = Key(bucket)\n",
      "    key.key = path\n",
      "    data = key.get_contents_as_string()\n",
      "    if unpickle:\n",
      "        data = cPickle.loads(data)\n",
      "    return data\n",
      "\n",
      "def s3_put(path, data, pickle=False):\n",
      "    conn = S3Connection(AWS_ACCESS_KEY_ID, AWS_SECRET_ACCESS_KEY)\n",
      "    bucket = conn.get_bucket(S3_BUCKET)\n",
      "    key = Key(bucket)\n",
      "    key.key = path\n",
      "    if pickle:\n",
      "        data = cPickle.dumps(data, protocol=cPickle.HIGHEST_PROTOCOL)\n",
      "    key.set_contents_from_string(data)"
     ],
     "language": "python",
     "outputs": [],
     "prompt_number": 36
    },
    {
     "cell_type": "code",
     "collapsed": false,
     "input": [
      "import numpy as np\n",
      "import simplejson as json\n",
      "from andreasmusic import pitches\n",
      "\n",
      "NO_CHORD = 'NO_CHORD'\n",
      "UNKNOWN = 'UNKNOWN'\n",
      "\n",
      "class Beat(object):\n",
      "    def __init__(self, chord=None, start=None, end=None):\n",
      "        self.chord = chord\n",
      "        self.start = start\n",
      "        self.end = end\n",
      "\n",
      "    def __repr__(self):\n",
      "        return '<Beat: %s [%.2f, %.2f]>' % (self.chord, self.start, self.end)\n",
      "\n",
      "    def __str__(self):\n",
      "        return self.__repr__()\n",
      "\n",
      "    def to_dict(self):\n",
      "        return {'chord': self.chord.to_dict(),\n",
      "                'start': self.start,\n",
      "                'end': self.end}\n",
      "\n",
      "class Chord(object):\n",
      "    def __init__(self, root=None, quality=None):\n",
      "        self.root = root\n",
      "        self.quality = quality\n",
      "\n",
      "    @staticmethod\n",
      "    def from_number(x):\n",
      "        if x == 24:\n",
      "            return Chord(None, NO_CHORD)\n",
      "        if x == 25:\n",
      "            return Chord(None, None)\n",
      "        root = int(x / 2)\n",
      "        quality = ['maj', 'min'][root % 2]\n",
      "        return Chord(root, quality)\n",
      "\n",
      "    def __repr__(self):\n",
      "        if self.root is None:\n",
      "            s = self.quality\n",
      "        else:\n",
      "            s = '%s:%s' % (pitches.note_name(self.root), self.quality)\n",
      "        return '<Chord: %s>' % s\n",
      "\n",
      "    def to_dict(self):\n",
      "        return {'root': self.root,\n",
      "                'quality': self.quality}\n",
      "\n",
      "    def get_number(self):\n",
      "        if self.root is None:\n",
      "            if self.quality == NO_CHORD:\n",
      "                return 24\n",
      "            else:\n",
      "                return 25\n",
      "        n = self.root * 2\n",
      "\n",
      "        if self.quality == 'maj':\n",
      "            return n\n",
      "        elif self.quality == 'min':\n",
      "            return n + 1\n",
      "\n",
      "        raise Exception('Unknown chord: %s' % self)\n",
      "\n",
      "def chord_per_beat(chords_file, echonest_file):\n",
      "\n",
      "    if isinstance(chords_file, basestring):\n",
      "        chords_file = open(chords_file, 'r')\n",
      "    if isinstance(echonest_file, basestring):\n",
      "        echonest_file = open(echonest_file, 'r')\n",
      "\n",
      "    beats = []\n",
      "    analysis = json.load(echonest_file)\n",
      "    beats_json = analysis['beats']\n",
      "    for beat_json in beats_json:\n",
      "        start = beat_json['start']\n",
      "        end = beat_json['duration'] + start\n",
      "        beats.append(Beat(start=start, end=end))\n",
      "\n",
      "    chords = []\n",
      "    for line in chords_file:\n",
      "        line = line.strip()\n",
      "        if not line:\n",
      "            continue\n",
      "\n",
      "        start, end, chord = line.split('\\t')\n",
      "        start = float(start)\n",
      "        end = float(end)\n",
      "        chord = parse_chord(chord)\n",
      "        chords.append((start, end, chord))\n",
      "\n",
      "    chords = beat_align(beats, chords)\n",
      "    for beat, chord in zip(beats, chords):\n",
      "        if chord:\n",
      "            beat.chord = chord\n",
      "        else:\n",
      "            beat.chord = parse_chord('N')\n",
      "\n",
      "    return beats\n",
      "\n",
      "def beat_align(beats, spans, average=False):\n",
      "    aligned = []\n",
      "    i = 0\n",
      "    if average:\n",
      "        default = np.zeros(len(spans[0][2]))\n",
      "\n",
      "    for beat in beats:\n",
      "        beat_spans = []\n",
      "        while i < len(spans):\n",
      "            span_length = min(beat.end, spans[i][1]) - max(beat.start, spans[i][0])\n",
      "            beat_spans.append((span_length, spans[i][2]))\n",
      "\n",
      "            if spans[i][1] > beat.end:\n",
      "                break\n",
      "\n",
      "            i += 1\n",
      "\n",
      "        aligned_data = default.copy() if average else None\n",
      "        max_length = 0\n",
      "        total_length = beat.end - beat.start\n",
      "        for length, data in beat_spans:\n",
      "            if average:\n",
      "                aligned_data += (data * float(length) / total_length)\n",
      "            else:\n",
      "                if length > max_length:\n",
      "                    max_length = length\n",
      "                    aligned_data = data\n",
      "\n",
      "        aligned.append(aligned_data)\n",
      "\n",
      "    return aligned\n",
      "        \n",
      "\n",
      "def parse_chord(chord_name):\n",
      "    root, _, quality = chord_name.partition(':')\n",
      "    if root == 'N':\n",
      "        chord = Chord(None, NO_CHORD)\n",
      "    elif root == 'X':\n",
      "        chord = Chord(None, UNKNOWN)\n",
      "    else:\n",
      "        root = pitches.note_number(root)\n",
      "        chord = Chord(root, quality)\n",
      "    return chord\n"
     ],
     "language": "python",
     "outputs": [],
     "prompt_number": 31
    },
    {
     "cell_type": "code",
     "collapsed": false,
     "input": [
      "indices = s3_get('chordrec/groundtruth/mcgill/index').splitlines()"
     ],
     "language": "python",
     "outputs": [],
     "prompt_number": 5
    },
    {
     "cell_type": "code",
     "collapsed": false,
     "input": [
      "data = []\n",
      "\n",
      "for n, index in enumerate(indices):\n",
      "    chords = StringIO(s3_get('chordrec/groundtruth/mcgill/%s/majmin.lab' % index))\n",
      "    echonest = StringIO(s3_get('chordrec/groundtruth/mcgill/%s/echonest.json' % index))\n",
      "    beats = chord_per_beat(chords, echonest)\n",
      "\n",
      "    cqt = s3_get('chordrec/cqt/hop-4096/%s.pkl' % index, unpickle=True)\n",
      "    step = 4096. / (44100 / 4)\n",
      "    timed_cqt = [(i * step, (i + 1) * step, p) for i, p in enumerate(cqt.T)]\n",
      "    aligned_cqt = np.array(mcgill.beat_align(beats, timed_cqt))\n",
      "    classes = np.array([b.chord.get_number() for b in beats])\n",
      "    data.append((aligned_cqt, classes))\n"
     ],
     "language": "python",
     "outputs": [
      {
       "output_type": "stream",
       "stream": "stdout",
       "text": [
        "0\n",
        "10"
       ]
      },
      {
       "output_type": "stream",
       "stream": "stdout",
       "text": [
        "\n",
        "20"
       ]
      },
      {
       "output_type": "stream",
       "stream": "stdout",
       "text": [
        "\n",
        "30"
       ]
      },
      {
       "output_type": "stream",
       "stream": "stdout",
       "text": [
        "\n",
        "40"
       ]
      },
      {
       "output_type": "stream",
       "stream": "stdout",
       "text": [
        "\n",
        "50"
       ]
      },
      {
       "output_type": "stream",
       "stream": "stdout",
       "text": [
        "\n",
        "60"
       ]
      },
      {
       "output_type": "stream",
       "stream": "stdout",
       "text": [
        "\n",
        "70"
       ]
      },
      {
       "output_type": "stream",
       "stream": "stdout",
       "text": [
        "\n",
        "80"
       ]
      },
      {
       "output_type": "stream",
       "stream": "stdout",
       "text": [
        "\n",
        "90"
       ]
      },
      {
       "output_type": "stream",
       "stream": "stdout",
       "text": [
        "\n",
        "100"
       ]
      },
      {
       "output_type": "stream",
       "stream": "stdout",
       "text": [
        "\n",
        "110"
       ]
      },
      {
       "output_type": "stream",
       "stream": "stdout",
       "text": [
        "\n",
        "120"
       ]
      },
      {
       "output_type": "stream",
       "stream": "stdout",
       "text": [
        "\n",
        "130"
       ]
      },
      {
       "output_type": "stream",
       "stream": "stdout",
       "text": [
        "\n",
        "140"
       ]
      },
      {
       "output_type": "stream",
       "stream": "stdout",
       "text": [
        "\n",
        "150"
       ]
      },
      {
       "output_type": "stream",
       "stream": "stdout",
       "text": [
        "\n",
        "160"
       ]
      },
      {
       "output_type": "stream",
       "stream": "stdout",
       "text": [
        "\n",
        "170"
       ]
      },
      {
       "output_type": "stream",
       "stream": "stdout",
       "text": [
        "\n",
        "180"
       ]
      },
      {
       "output_type": "stream",
       "stream": "stdout",
       "text": [
        "\n",
        "190"
       ]
      },
      {
       "output_type": "stream",
       "stream": "stdout",
       "text": [
        "\n",
        "200"
       ]
      },
      {
       "output_type": "stream",
       "stream": "stdout",
       "text": [
        "\n",
        "210"
       ]
      },
      {
       "output_type": "stream",
       "stream": "stdout",
       "text": [
        "\n",
        "220"
       ]
      },
      {
       "output_type": "stream",
       "stream": "stdout",
       "text": [
        "\n",
        "230"
       ]
      },
      {
       "output_type": "stream",
       "stream": "stdout",
       "text": [
        "\n",
        "240"
       ]
      },
      {
       "output_type": "stream",
       "stream": "stdout",
       "text": [
        "\n",
        "250"
       ]
      },
      {
       "output_type": "stream",
       "stream": "stdout",
       "text": [
        "\n",
        "260"
       ]
      },
      {
       "output_type": "stream",
       "stream": "stdout",
       "text": [
        "\n",
        "270"
       ]
      },
      {
       "output_type": "stream",
       "stream": "stdout",
       "text": [
        "\n",
        "280"
       ]
      },
      {
       "output_type": "stream",
       "stream": "stdout",
       "text": [
        "\n",
        "290"
       ]
      },
      {
       "output_type": "stream",
       "stream": "stdout",
       "text": [
        "\n",
        "300"
       ]
      },
      {
       "output_type": "stream",
       "stream": "stdout",
       "text": [
        "\n",
        "310"
       ]
      },
      {
       "output_type": "stream",
       "stream": "stdout",
       "text": [
        "\n",
        "320"
       ]
      },
      {
       "output_type": "stream",
       "stream": "stdout",
       "text": [
        "\n",
        "330"
       ]
      },
      {
       "output_type": "stream",
       "stream": "stdout",
       "text": [
        "\n",
        "340"
       ]
      },
      {
       "output_type": "stream",
       "stream": "stdout",
       "text": [
        "\n",
        "350"
       ]
      },
      {
       "output_type": "stream",
       "stream": "stdout",
       "text": [
        "\n",
        "360"
       ]
      },
      {
       "output_type": "stream",
       "stream": "stdout",
       "text": [
        "\n",
        "370"
       ]
      },
      {
       "output_type": "stream",
       "stream": "stdout",
       "text": [
        "\n",
        "380"
       ]
      },
      {
       "output_type": "stream",
       "stream": "stdout",
       "text": [
        "\n",
        "390"
       ]
      },
      {
       "output_type": "stream",
       "stream": "stdout",
       "text": [
        "\n",
        "400"
       ]
      },
      {
       "output_type": "stream",
       "stream": "stdout",
       "text": [
        "\n",
        "410"
       ]
      },
      {
       "output_type": "stream",
       "stream": "stdout",
       "text": [
        "\n",
        "420"
       ]
      },
      {
       "output_type": "stream",
       "stream": "stdout",
       "text": [
        "\n",
        "430"
       ]
      },
      {
       "output_type": "stream",
       "stream": "stdout",
       "text": [
        "\n",
        "440"
       ]
      },
      {
       "output_type": "stream",
       "stream": "stdout",
       "text": [
        "\n",
        "450"
       ]
      },
      {
       "output_type": "stream",
       "stream": "stdout",
       "text": [
        "\n",
        "460"
       ]
      },
      {
       "output_type": "stream",
       "stream": "stdout",
       "text": [
        "\n",
        "470"
       ]
      },
      {
       "output_type": "stream",
       "stream": "stdout",
       "text": [
        "\n",
        "480"
       ]
      },
      {
       "output_type": "stream",
       "stream": "stdout",
       "text": [
        "\n",
        "490"
       ]
      },
      {
       "output_type": "stream",
       "stream": "stdout",
       "text": [
        "\n",
        "500"
       ]
      },
      {
       "output_type": "stream",
       "stream": "stdout",
       "text": [
        "\n",
        "510"
       ]
      },
      {
       "output_type": "stream",
       "stream": "stdout",
       "text": [
        "\n",
        "520"
       ]
      },
      {
       "output_type": "stream",
       "stream": "stdout",
       "text": [
        "\n",
        "530"
       ]
      },
      {
       "output_type": "stream",
       "stream": "stdout",
       "text": [
        "\n",
        "540"
       ]
      },
      {
       "output_type": "stream",
       "stream": "stdout",
       "text": [
        "\n",
        "550"
       ]
      },
      {
       "output_type": "stream",
       "stream": "stdout",
       "text": [
        "\n",
        "560"
       ]
      },
      {
       "output_type": "stream",
       "stream": "stdout",
       "text": [
        "\n",
        "570"
       ]
      },
      {
       "output_type": "stream",
       "stream": "stdout",
       "text": [
        "\n",
        "580"
       ]
      },
      {
       "output_type": "stream",
       "stream": "stdout",
       "text": [
        "\n",
        "590"
       ]
      },
      {
       "output_type": "stream",
       "stream": "stdout",
       "text": [
        "\n",
        "600"
       ]
      },
      {
       "output_type": "stream",
       "stream": "stdout",
       "text": [
        "\n",
        "610"
       ]
      },
      {
       "output_type": "stream",
       "stream": "stdout",
       "text": [
        "\n",
        "620"
       ]
      },
      {
       "output_type": "stream",
       "stream": "stdout",
       "text": [
        "\n",
        "630"
       ]
      },
      {
       "output_type": "stream",
       "stream": "stdout",
       "text": [
        "\n",
        "640"
       ]
      },
      {
       "output_type": "stream",
       "stream": "stdout",
       "text": [
        "\n",
        "650"
       ]
      },
      {
       "output_type": "stream",
       "stream": "stdout",
       "text": [
        "\n",
        "660"
       ]
      },
      {
       "output_type": "stream",
       "stream": "stdout",
       "text": [
        "\n",
        "670"
       ]
      },
      {
       "output_type": "stream",
       "stream": "stdout",
       "text": [
        "\n",
        "680"
       ]
      },
      {
       "output_type": "stream",
       "stream": "stdout",
       "text": [
        "\n",
        "690"
       ]
      },
      {
       "output_type": "stream",
       "stream": "stdout",
       "text": [
        "\n",
        "700"
       ]
      },
      {
       "output_type": "stream",
       "stream": "stdout",
       "text": [
        "\n",
        "710"
       ]
      },
      {
       "output_type": "stream",
       "stream": "stdout",
       "text": [
        "\n",
        "720"
       ]
      },
      {
       "output_type": "stream",
       "stream": "stdout",
       "text": [
        "\n",
        "730"
       ]
      },
      {
       "output_type": "stream",
       "stream": "stdout",
       "text": [
        "\n",
        "740"
       ]
      },
      {
       "output_type": "stream",
       "stream": "stdout",
       "text": [
        "\n",
        "750"
       ]
      },
      {
       "output_type": "stream",
       "stream": "stdout",
       "text": [
        "\n",
        "760"
       ]
      },
      {
       "output_type": "stream",
       "stream": "stdout",
       "text": [
        "\n",
        "770"
       ]
      },
      {
       "output_type": "stream",
       "stream": "stdout",
       "text": [
        "\n",
        "780"
       ]
      },
      {
       "output_type": "stream",
       "stream": "stdout",
       "text": [
        "\n",
        "790"
       ]
      },
      {
       "output_type": "stream",
       "stream": "stdout",
       "text": [
        "\n",
        "800"
       ]
      },
      {
       "output_type": "stream",
       "stream": "stdout",
       "text": [
        "\n",
        "810"
       ]
      },
      {
       "output_type": "stream",
       "stream": "stdout",
       "text": [
        "\n",
        "820"
       ]
      },
      {
       "output_type": "stream",
       "stream": "stdout",
       "text": [
        "\n",
        "830"
       ]
      },
      {
       "output_type": "stream",
       "stream": "stdout",
       "text": [
        "\n",
        "840"
       ]
      },
      {
       "output_type": "stream",
       "stream": "stdout",
       "text": [
        "\n",
        "850"
       ]
      },
      {
       "output_type": "stream",
       "stream": "stdout",
       "text": [
        "\n",
        "860"
       ]
      },
      {
       "output_type": "stream",
       "stream": "stdout",
       "text": [
        "\n",
        "870"
       ]
      },
      {
       "output_type": "stream",
       "stream": "stdout",
       "text": [
        "\n",
        "880"
       ]
      },
      {
       "output_type": "stream",
       "stream": "stdout",
       "text": [
        "\n"
       ]
      }
     ],
     "prompt_number": 34
    },
    {
     "cell_type": "code",
     "collapsed": false,
     "input": [
      "s3_put('chordrec/test_data/beat_aligned_hop4096.pkl', data, pickle=True)"
     ],
     "language": "python",
     "outputs": [],
     "prompt_number": 37
    },
    {
     "cell_type": "code",
     "collapsed": false,
     "input": [
      "[(i, Chord.from_number(c)) for i, c in enumerate(data[3][1])]"
     ],
     "language": "python",
     "outputs": [
      {
       "output_type": "pyout",
       "prompt_number": 33,
       "text": [
        "[(0, <Chord: C0:maj>),\n",
        " (1, <Chord: C0:maj>),\n",
        " (2, <Chord: C0:maj>),\n",
        " (3, <Chord: C0:maj>),\n",
        " (4, <Chord: C0:maj>),\n",
        " (5, <Chord: C0:maj>),\n",
        " (6, <Chord: C0:maj>),\n",
        " (7, <Chord: C0:maj>),\n",
        " (8, <Chord: C0:maj>),\n",
        " (9, <Chord: C0:maj>),\n",
        " (10, <Chord: C0:maj>),\n",
        " (11, <Chord: C0:maj>),\n",
        " (12, <Chord: C0:maj>),\n",
        " (13, <Chord: C0:maj>),\n",
        " (14, <Chord: C0:maj>),\n",
        " (15, <Chord: C0:maj>),\n",
        " (16, <Chord: C0:maj>),\n",
        " (17, <Chord: C0:maj>),\n",
        " (18, <Chord: C0:maj>),\n",
        " (19, <Chord: C0:maj>),\n",
        " (20, <Chord: C0:maj>),\n",
        " (21, <Chord: C0:maj>),\n",
        " (22, <Chord: C0:maj>),\n",
        " (23, <Chord: C0:maj>),\n",
        " (24, <Chord: D0:maj>),\n",
        " (25, <Chord: D0:maj>),\n",
        " (26, <Chord: D0:maj>),\n",
        " (27, <Chord: D0:maj>),\n",
        " (28, <Chord: D0:maj>),\n",
        " (29, <Chord: D0:maj>),\n",
        " (30, <Chord: D0:maj>),\n",
        " (31, <Chord: D0:maj>),\n",
        " (32, <Chord: F0:min>),\n",
        " (33, <Chord: F0:min>),\n",
        " (34, <Chord: F0:min>),\n",
        " (35, <Chord: F0:min>),\n",
        " (36, <Chord: G0:min>),\n",
        " (37, <Chord: G0:min>),\n",
        " (38, <Chord: G0:min>),\n",
        " (39, <Chord: G0:min>),\n",
        " (40, <Chord: G0:min>),\n",
        " (41, <Chord: G0:min>),\n",
        " (42, <Chord: G0:min>),\n",
        " (43, <Chord: G0:min>),\n",
        " (44, <Chord: C0:maj>),\n",
        " (45, <Chord: C0:maj>),\n",
        " (46, <Chord: C0:maj>),\n",
        " (47, <Chord: C0:maj>),\n",
        " (48, <Chord: C0:maj>),\n",
        " (49, <Chord: C0:maj>),\n",
        " (50, <Chord: C0:maj>),\n",
        " (51, <Chord: C0:maj>),\n",
        " (52, <Chord: C0:maj>),\n",
        " (53, <Chord: C0:maj>),\n",
        " (54, <Chord: C0:maj>),\n",
        " (55, <Chord: C0:maj>),\n",
        " (56, <Chord: D0:maj>),\n",
        " (57, <Chord: D0:maj>),\n",
        " (58, <Chord: D0:maj>),\n",
        " (59, <Chord: D0:maj>),\n",
        " (60, <Chord: D0:maj>),\n",
        " (61, <Chord: D0:maj>),\n",
        " (62, <Chord: D0:maj>),\n",
        " (63, <Chord: D0:maj>),\n",
        " (64, <Chord: F0:min>),\n",
        " (65, <Chord: F0:min>),\n",
        " (66, <Chord: F0:min>),\n",
        " (67, <Chord: F0:min>),\n",
        " (68, <Chord: G0:min>),\n",
        " (69, <Chord: G0:min>),\n",
        " (70, <Chord: G0:min>),\n",
        " (71, <Chord: G0:min>),\n",
        " (72, <Chord: G0:min>),\n",
        " (73, <Chord: G0:min>),\n",
        " (74, <Chord: G0:min>),\n",
        " (75, <Chord: G0:min>),\n",
        " (76, <Chord: C0:maj>),\n",
        " (77, <Chord: C0:maj>),\n",
        " (78, <Chord: C0:maj>),\n",
        " (79, <Chord: C0:maj>),\n",
        " (80, <Chord: G0:min>),\n",
        " (81, <Chord: G0:min>),\n",
        " (82, <Chord: G0:min>),\n",
        " (83, <Chord: G0:min>),\n",
        " (84, <Chord: C0:maj>),\n",
        " (85, <Chord: C0:maj>),\n",
        " (86, <Chord: C0:maj>),\n",
        " (87, <Chord: C0:maj>),\n",
        " (88, <Chord: A#0:maj>),\n",
        " (89, <Chord: A#0:maj>),\n",
        " (90, <Chord: A#0:maj>),\n",
        " (91, <Chord: A#0:maj>),\n",
        " (92, <Chord: F0:min>),\n",
        " (93, <Chord: F0:min>),\n",
        " (94, <Chord: F0:min>),\n",
        " (95, <Chord: F0:min>),\n",
        " (96, <Chord: G0:min>),\n",
        " (97, <Chord: G0:min>),\n",
        " (98, <Chord: G0:min>),\n",
        " (99, <Chord: G0:min>),\n",
        " (100, <Chord: C0:maj>),\n",
        " (101, <Chord: C0:maj>),\n",
        " (102, <Chord: C0:maj>),\n",
        " (103, <Chord: C0:maj>),\n",
        " (104, <Chord: C0:maj>),\n",
        " (105, <Chord: C0:maj>),\n",
        " (106, <Chord: C0:maj>),\n",
        " (107, <Chord: C0:maj>),\n",
        " (108, <Chord: D0:maj>),\n",
        " (109, <Chord: D0:maj>),\n",
        " (110, <Chord: D0:maj>),\n",
        " (111, <Chord: D0:maj>),\n",
        " (112, <Chord: D0:maj>),\n",
        " (113, <Chord: D0:maj>),\n",
        " (114, <Chord: D0:maj>),\n",
        " (115, <Chord: D0:maj>),\n",
        " (116, <Chord: F0:min>),\n",
        " (117, <Chord: F0:min>),\n",
        " (118, <Chord: F0:min>),\n",
        " (119, <Chord: F0:min>),\n",
        " (120, <Chord: G0:min>),\n",
        " (121, <Chord: G0:min>),\n",
        " (122, <Chord: G0:min>),\n",
        " (123, <Chord: G0:min>),\n",
        " (124, <Chord: G0:min>),\n",
        " (125, <Chord: G0:min>),\n",
        " (126, <Chord: G0:min>),\n",
        " (127, <Chord: G0:min>),\n",
        " (128, <Chord: C0:maj>),\n",
        " (129, <Chord: C0:maj>),\n",
        " (130, <Chord: C0:maj>),\n",
        " (131, <Chord: C0:maj>),\n",
        " (132, <Chord: C0:maj>),\n",
        " (133, <Chord: C0:maj>),\n",
        " (134, <Chord: C0:maj>),\n",
        " (135, <Chord: C0:maj>),\n",
        " (136, <Chord: C0:maj>),\n",
        " (137, <Chord: C0:maj>),\n",
        " (138, <Chord: C0:maj>),\n",
        " (139, <Chord: C0:maj>),\n",
        " (140, <Chord: D0:maj>),\n",
        " (141, <Chord: D0:maj>),\n",
        " (142, <Chord: D0:maj>),\n",
        " (143, <Chord: D0:maj>),\n",
        " (144, <Chord: D0:maj>),\n",
        " (145, <Chord: D0:maj>),\n",
        " (146, <Chord: D0:maj>),\n",
        " (147, <Chord: D0:maj>),\n",
        " (148, <Chord: F0:min>),\n",
        " (149, <Chord: F0:min>),\n",
        " (150, <Chord: F0:min>),\n",
        " (151, <Chord: F0:min>),\n",
        " (152, <Chord: G0:min>),\n",
        " (153, <Chord: G0:min>),\n",
        " (154, <Chord: G0:min>),\n",
        " (155, <Chord: G0:min>),\n",
        " (156, <Chord: G0:min>),\n",
        " (157, <Chord: G0:min>),\n",
        " (158, <Chord: G0:min>),\n",
        " (159, <Chord: G0:min>),\n",
        " (160, <Chord: C0:maj>),\n",
        " (161, <Chord: C0:maj>),\n",
        " (162, <Chord: F0:min>),\n",
        " (163, <Chord: C0:maj>),\n",
        " (164, <Chord: C0:maj>),\n",
        " (165, <Chord: F0:min>),\n",
        " (166, <Chord: F0:min>),\n",
        " (167, <Chord: G0:min>),\n",
        " (168, <Chord: C0:maj>),\n",
        " (169, <Chord: C0:maj>),\n",
        " (170, <Chord: F0:min>),\n",
        " (171, <Chord: C0:maj>),\n",
        " (172, <Chord: C0:maj>),\n",
        " (173, <Chord: D0:maj>),\n",
        " (174, <Chord: D0:maj>),\n",
        " (175, <Chord: C0:maj>),\n",
        " (176, <Chord: A#0:maj>),\n",
        " (177, <Chord: A#0:maj>),\n",
        " (178, <Chord: F0:min>),\n",
        " (179, <Chord: F0:min>),\n",
        " (180, <Chord: F0:min>),\n",
        " (181, <Chord: A#0:maj>),\n",
        " (182, <Chord: A#0:maj>),\n",
        " (183, <Chord: F0:min>),\n",
        " (184, <Chord: A#0:maj>),\n",
        " (185, <Chord: A#0:maj>),\n",
        " (186, <Chord: F0:min>),\n",
        " (187, <Chord: F0:min>),\n",
        " (188, <Chord: F0:min>),\n",
        " (189, <Chord: G0:min>),\n",
        " (190, <Chord: G0:min>),\n",
        " (191, <Chord: G0:min>),\n",
        " (192, <Chord: C0:maj>),\n",
        " (193, <Chord: C0:maj>),\n",
        " (194, <Chord: C0:maj>),\n",
        " (195, <Chord: C0:maj>),\n",
        " (196, <Chord: C0:maj>),\n",
        " (197, <Chord: C0:maj>),\n",
        " (198, <Chord: C0:maj>),\n",
        " (199, <Chord: C0:maj>),\n",
        " (200, <Chord: C0:maj>),\n",
        " (201, <Chord: C0:maj>),\n",
        " (202, <Chord: C0:maj>),\n",
        " (203, <Chord: C0:maj>),\n",
        " (204, <Chord: C0:maj>),\n",
        " (205, <Chord: C0:maj>),\n",
        " (206, <Chord: C0:maj>),\n",
        " (207, <Chord: C0:maj>),\n",
        " (208, <Chord: C0:maj>),\n",
        " (209, <Chord: C0:maj>),\n",
        " (210, <Chord: C0:maj>),\n",
        " (211, <Chord: C0:maj>),\n",
        " (212, <Chord: C0:maj>),\n",
        " (213, <Chord: C0:maj>),\n",
        " (214, <Chord: C0:maj>),\n",
        " (215, <Chord: C0:maj>),\n",
        " (216, <Chord: D0:maj>),\n",
        " (217, <Chord: D0:maj>),\n",
        " (218, <Chord: D0:maj>),\n",
        " (219, <Chord: D0:maj>),\n",
        " (220, <Chord: D0:maj>),\n",
        " (221, <Chord: D0:maj>),\n",
        " (222, <Chord: D0:maj>),\n",
        " (223, <Chord: D0:maj>),\n",
        " (224, <Chord: F0:min>),\n",
        " (225, <Chord: F0:min>),\n",
        " (226, <Chord: F0:min>),\n",
        " (227, <Chord: F0:min>),\n",
        " (228, <Chord: G0:min>),\n",
        " (229, <Chord: G0:min>),\n",
        " (230, <Chord: G0:min>),\n",
        " (231, <Chord: G0:min>),\n",
        " (232, <Chord: G0:min>),\n",
        " (233, <Chord: G0:min>),\n",
        " (234, <Chord: G0:min>),\n",
        " (235, <Chord: G0:min>),\n",
        " (236, <Chord: C0:maj>),\n",
        " (237, <Chord: C0:maj>),\n",
        " (238, <Chord: C0:maj>),\n",
        " (239, <Chord: C0:maj>),\n",
        " (240, <Chord: C0:maj>),\n",
        " (241, <Chord: C0:maj>),\n",
        " (242, <Chord: C0:maj>),\n",
        " (243, <Chord: C0:maj>),\n",
        " (244, <Chord: C0:maj>),\n",
        " (245, <Chord: C0:maj>),\n",
        " (246, <Chord: C0:maj>),\n",
        " (247, <Chord: C0:maj>),\n",
        " (248, <Chord: D0:maj>),\n",
        " (249, <Chord: D0:maj>),\n",
        " (250, <Chord: D0:maj>),\n",
        " (251, <Chord: D0:maj>),\n",
        " (252, <Chord: D0:maj>),\n",
        " (253, <Chord: D0:maj>),\n",
        " (254, <Chord: D0:maj>),\n",
        " (255, <Chord: D0:maj>),\n",
        " (256, <Chord: F0:min>),\n",
        " (257, <Chord: F0:min>),\n",
        " (258, <Chord: F0:min>),\n",
        " (259, <Chord: F0:min>),\n",
        " (260, <Chord: G0:min>),\n",
        " (261, <Chord: G0:min>),\n",
        " (262, <Chord: G0:min>),\n",
        " (263, <Chord: G0:min>),\n",
        " (264, <Chord: G0:min>),\n",
        " (265, <Chord: G0:min>),\n",
        " (266, <Chord: G0:min>),\n",
        " (267, <Chord: G0:min>),\n",
        " (268, <Chord: C0:maj>),\n",
        " (269, <Chord: C0:maj>),\n",
        " (270, <Chord: C0:maj>),\n",
        " (271, <Chord: C0:maj>),\n",
        " (272, <Chord: G0:min>),\n",
        " (273, <Chord: G0:min>),\n",
        " (274, <Chord: G0:min>),\n",
        " (275, <Chord: G0:min>),\n",
        " (276, <Chord: C0:maj>),\n",
        " (277, <Chord: C0:maj>),\n",
        " (278, <Chord: C0:maj>),\n",
        " (279, <Chord: C0:maj>),\n",
        " (280, <Chord: A#0:maj>),\n",
        " (281, <Chord: A#0:maj>),\n",
        " (282, <Chord: A#0:maj>),\n",
        " (283, <Chord: A#0:maj>),\n",
        " (284, <Chord: F0:min>),\n",
        " (285, <Chord: F0:min>),\n",
        " (286, <Chord: F0:min>),\n",
        " (287, <Chord: F0:min>),\n",
        " (288, <Chord: G0:min>),\n",
        " (289, <Chord: G0:min>),\n",
        " (290, <Chord: G0:min>),\n",
        " (291, <Chord: G0:min>),\n",
        " (292, <Chord: C0:maj>),\n",
        " (293, <Chord: C0:maj>),\n",
        " (294, <Chord: C0:maj>),\n",
        " (295, <Chord: C0:maj>),\n",
        " (296, <Chord: C0:maj>),\n",
        " (297, <Chord: C0:maj>),\n",
        " (298, <Chord: C0:maj>),\n",
        " (299, <Chord: C0:maj>),\n",
        " (300, <Chord: D0:maj>),\n",
        " (301, <Chord: D0:maj>),\n",
        " (302, <Chord: D0:maj>),\n",
        " (303, <Chord: D0:maj>),\n",
        " (304, <Chord: D0:maj>),\n",
        " (305, <Chord: D0:maj>),\n",
        " (306, <Chord: D0:maj>),\n",
        " (307, <Chord: D0:maj>),\n",
        " (308, <Chord: F0:min>),\n",
        " (309, <Chord: F0:min>),\n",
        " (310, <Chord: F0:min>),\n",
        " (311, <Chord: F0:min>),\n",
        " (312, <Chord: G0:min>),\n",
        " (313, <Chord: G0:min>),\n",
        " (314, <Chord: G0:min>),\n",
        " (315, <Chord: G0:min>),\n",
        " (316, <Chord: G0:min>),\n",
        " (317, <Chord: G0:min>),\n",
        " (318, <Chord: G0:min>),\n",
        " (319, <Chord: G0:min>),\n",
        " (320, <Chord: C0:maj>),\n",
        " (321, <Chord: C0:maj>),\n",
        " (322, <Chord: C0:maj>),\n",
        " (323, <Chord: C0:maj>),\n",
        " (324, <Chord: C0:maj>),\n",
        " (325, <Chord: C0:maj>),\n",
        " (326, <Chord: C0:maj>),\n",
        " (327, <Chord: C0:maj>),\n",
        " (328, <Chord: C0:maj>),\n",
        " (329, <Chord: C0:maj>),\n",
        " (330, <Chord: C0:maj>),\n",
        " (331, <Chord: C0:maj>),\n",
        " (332, <Chord: D0:maj>),\n",
        " (333, <Chord: D0:maj>),\n",
        " (334, <Chord: D0:maj>),\n",
        " (335, <Chord: D0:maj>),\n",
        " (336, <Chord: D0:maj>),\n",
        " (337, <Chord: D0:maj>),\n",
        " (338, <Chord: D0:maj>),\n",
        " (339, <Chord: D0:maj>),\n",
        " (340, <Chord: F0:min>),\n",
        " (341, <Chord: F0:min>),\n",
        " (342, <Chord: F0:min>),\n",
        " (343, <Chord: F0:min>),\n",
        " (344, <Chord: G0:min>),\n",
        " (345, <Chord: G0:min>),\n",
        " (346, <Chord: G0:min>),\n",
        " (347, <Chord: G0:min>),\n",
        " (348, <Chord: G0:min>),\n",
        " (349, <Chord: G0:min>),\n",
        " (350, <Chord: G0:min>),\n",
        " (351, <Chord: G0:min>),\n",
        " (352, <Chord: C0:maj>),\n",
        " (353, <Chord: C0:maj>),\n",
        " (354, <Chord: F0:min>),\n",
        " (355, <Chord: C0:maj>),\n",
        " (356, <Chord: C0:maj>),\n",
        " (357, <Chord: F0:min>),\n",
        " (358, <Chord: F0:min>),\n",
        " (359, <Chord: G0:min>),\n",
        " (360, <Chord: C0:maj>),\n",
        " (361, <Chord: C0:maj>),\n",
        " (362, <Chord: F0:min>),\n",
        " (363, <Chord: C0:maj>),\n",
        " (364, <Chord: C0:maj>),\n",
        " (365, <Chord: D0:maj>),\n",
        " (366, <Chord: D0:maj>),\n",
        " (367, <Chord: C0:maj>),\n",
        " (368, <Chord: A#0:maj>),\n",
        " (369, <Chord: A#0:maj>),\n",
        " (370, <Chord: F0:min>),\n",
        " (371, <Chord: F0:min>),\n",
        " (372, <Chord: F0:min>),\n",
        " (373, <Chord: A#0:maj>),\n",
        " (374, <Chord: A#0:maj>),\n",
        " (375, <Chord: F0:min>),\n",
        " (376, <Chord: A#0:maj>),\n",
        " (377, <Chord: A#0:maj>),\n",
        " (378, <Chord: F0:min>),\n",
        " (379, <Chord: F0:min>),\n",
        " (380, <Chord: F0:min>),\n",
        " (381, <Chord: G0:min>),\n",
        " (382, <Chord: G0:min>),\n",
        " (383, <Chord: G0:min>),\n",
        " (384, <Chord: C0:maj>),\n",
        " (385, <Chord: C0:maj>),\n",
        " (386, <Chord: F0:min>),\n",
        " (387, <Chord: C0:maj>),\n",
        " (388, <Chord: C0:maj>),\n",
        " (389, <Chord: F0:min>),\n",
        " (390, <Chord: F0:min>),\n",
        " (391, <Chord: G0:min>),\n",
        " (392, <Chord: C0:maj>),\n",
        " (393, <Chord: C0:maj>),\n",
        " (394, <Chord: F0:min>),\n",
        " (395, <Chord: C0:maj>),\n",
        " (396, <Chord: C0:maj>),\n",
        " (397, <Chord: D0:maj>),\n",
        " (398, <Chord: D0:maj>),\n",
        " (399, <Chord: C0:maj>),\n",
        " (400, <Chord: G0:min>),\n",
        " (401, <Chord: G0:min>),\n",
        " (402, <Chord: G0:min>),\n",
        " (403, <Chord: G0:min>),\n",
        " (404, <Chord: C0:maj>),\n",
        " (405, <Chord: C0:maj>),\n",
        " (406, <Chord: C0:maj>),\n",
        " (407, <Chord: C0:maj>),\n",
        " (408, <Chord: A#0:maj>),\n",
        " (409, <Chord: A#0:maj>),\n",
        " (410, <Chord: A#0:maj>),\n",
        " (411, <Chord: A#0:maj>),\n",
        " (412, <Chord: F0:min>),\n",
        " (413, <Chord: F0:min>),\n",
        " (414, <Chord: F0:min>),\n",
        " (415, <Chord: F0:min>),\n",
        " (416, <Chord: G0:min>),\n",
        " (417, <Chord: G0:min>),\n",
        " (418, <Chord: G0:min>),\n",
        " (419, <Chord: G0:min>),\n",
        " (420, <Chord: NO_CHORD>),\n",
        " (421, <Chord: NO_CHORD>),\n",
        " (422, <Chord: NO_CHORD>),\n",
        " (423, <Chord: NO_CHORD>),\n",
        " (424, <Chord: C0:maj>),\n",
        " (425, <Chord: C0:maj>),\n",
        " (426, <Chord: C0:maj>),\n",
        " (427, <Chord: C0:maj>),\n",
        " (428, <Chord: C0:maj>),\n",
        " (429, <Chord: C0:maj>),\n",
        " (430, <Chord: C0:maj>),\n",
        " (431, <Chord: C0:maj>),\n",
        " (432, <Chord: D0:maj>),\n",
        " (433, <Chord: D0:maj>),\n",
        " (434, <Chord: D0:maj>),\n",
        " (435, <Chord: D0:maj>),\n",
        " (436, <Chord: D0:maj>),\n",
        " (437, <Chord: D0:maj>),\n",
        " (438, <Chord: D0:maj>),\n",
        " (439, <Chord: D0:maj>),\n",
        " (440, <Chord: F0:min>),\n",
        " (441, <Chord: F0:min>),\n",
        " (442, <Chord: F0:min>),\n",
        " (443, <Chord: F0:min>),\n",
        " (444, <Chord: G0:min>),\n",
        " (445, <Chord: G0:min>),\n",
        " (446, <Chord: G0:min>),\n",
        " (447, <Chord: G0:min>),\n",
        " (448, <Chord: G0:min>),\n",
        " (449, <Chord: G0:min>),\n",
        " (450, <Chord: G0:min>),\n",
        " (451, <Chord: G0:min>),\n",
        " (452, <Chord: C0:maj>),\n",
        " (453, <Chord: C0:maj>),\n",
        " (454, <Chord: C0:maj>),\n",
        " (455, <Chord: C0:maj>),\n",
        " (456, <Chord: C0:maj>),\n",
        " (457, <Chord: C0:maj>),\n",
        " (458, <Chord: C0:maj>),\n",
        " (459, <Chord: C0:maj>),\n",
        " (460, <Chord: C0:maj>),\n",
        " (461, <Chord: C0:maj>),\n",
        " (462, <Chord: C0:maj>),\n",
        " (463, <Chord: C0:maj>),\n",
        " (464, <Chord: D0:maj>),\n",
        " (465, <Chord: D0:maj>),\n",
        " (466, <Chord: D0:maj>),\n",
        " (467, <Chord: D0:maj>),\n",
        " (468, <Chord: D0:maj>),\n",
        " (469, <Chord: D0:maj>),\n",
        " (470, <Chord: D0:maj>),\n",
        " (471, <Chord: D0:maj>),\n",
        " (472, <Chord: F0:min>),\n",
        " (473, <Chord: F0:min>),\n",
        " (474, <Chord: F0:min>),\n",
        " (475, <Chord: F0:min>),\n",
        " (476, <Chord: G0:min>),\n",
        " (477, <Chord: G0:min>),\n",
        " (478, <Chord: G0:min>),\n",
        " (479, <Chord: G0:min>),\n",
        " (480, <Chord: G0:min>),\n",
        " (481, <Chord: G0:min>),\n",
        " (482, <Chord: G0:min>),\n",
        " (483, <Chord: G0:min>),\n",
        " (484, <Chord: C0:maj>),\n",
        " (485, <Chord: C0:maj>),\n",
        " (486, <Chord: F0:min>),\n",
        " (487, <Chord: C0:maj>),\n",
        " (488, <Chord: C0:maj>),\n",
        " (489, <Chord: F0:min>),\n",
        " (490, <Chord: F0:min>),\n",
        " (491, <Chord: G0:min>),\n",
        " (492, <Chord: C0:maj>),\n",
        " (493, <Chord: C0:maj>),\n",
        " (494, <Chord: F0:min>),\n",
        " (495, <Chord: C0:maj>),\n",
        " (496, <Chord: C0:maj>),\n",
        " (497, <Chord: D0:maj>),\n",
        " (498, <Chord: D0:maj>),\n",
        " (499, <Chord: C0:maj>),\n",
        " (500, <Chord: A#0:maj>),\n",
        " (501, <Chord: A#0:maj>),\n",
        " (502, <Chord: F0:min>),\n",
        " (503, <Chord: F0:min>),\n",
        " (504, <Chord: A#0:maj>),\n",
        " (505, <Chord: A#0:maj>),\n",
        " (506, <Chord: F0:min>),\n",
        " (507, <Chord: A#0:maj>),\n",
        " (508, <Chord: A#0:maj>),\n",
        " (509, <Chord: F0:min>),\n",
        " (510, <Chord: F0:min>),\n",
        " (511, <Chord: F0:min>),\n",
        " (512, <Chord: G0:min>),\n",
        " (513, <Chord: G0:min>),\n",
        " (514, <Chord: G0:min>),\n",
        " (515, <Chord: C0:maj>),\n",
        " (516, <Chord: C0:maj>),\n",
        " (517, <Chord: F0:min>),\n",
        " (518, <Chord: C0:maj>),\n",
        " (519, <Chord: C0:maj>),\n",
        " (520, <Chord: F0:min>),\n",
        " (521, <Chord: F0:min>),\n",
        " (522, <Chord: G0:min>),\n",
        " (523, <Chord: C0:maj>),\n",
        " (524, <Chord: C0:maj>),\n",
        " (525, <Chord: F0:min>),\n",
        " (526, <Chord: C0:maj>),\n",
        " (527, <Chord: C0:maj>),\n",
        " (528, <Chord: D0:maj>),\n",
        " (529, <Chord: D0:maj>),\n",
        " (530, <Chord: C0:maj>),\n",
        " (531, <Chord: G0:min>),\n",
        " (532, <Chord: G0:min>),\n",
        " (533, <Chord: G0:min>),\n",
        " (534, <Chord: G0:min>),\n",
        " (535, <Chord: G0:min>),\n",
        " (536, <Chord: G0:min>),\n",
        " (537, <Chord: G0:min>),\n",
        " (538, <Chord: G0:min>),\n",
        " (539, <Chord: C0:maj>),\n",
        " (540, <Chord: C0:maj>),\n",
        " (541, <Chord: C0:maj>),\n",
        " (542, <Chord: C0:maj>),\n",
        " (543, <Chord: C0:maj>),\n",
        " (544, <Chord: C0:maj>),\n",
        " (545, <Chord: C0:maj>),\n",
        " (546, <Chord: C0:maj>),\n",
        " (547, <Chord: C0:maj>),\n",
        " (548, <Chord: C0:maj>),\n",
        " (549, <Chord: C0:maj>),\n",
        " (550, <Chord: C0:maj>),\n",
        " (551, <Chord: C0:maj>),\n",
        " (552, <Chord: C0:maj>),\n",
        " (553, <Chord: C0:maj>),\n",
        " (554, <Chord: C0:maj>),\n",
        " (555, <Chord: NO_CHORD>)]"
       ]
      }
     ],
     "prompt_number": 33
    }
   ]
  }
 ]
}