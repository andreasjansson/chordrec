{
 "metadata": {
  "name": "",
  "signature": "sha256:f166ddcf3a8efb98c040f4c30604ba4253ee6d9f6ccac62122ca4baf645689bd"
 },
 "nbformat": 3,
 "nbformat_minor": 0,
 "worksheets": [
  {
   "cells": [
    {
     "cell_type": "heading",
     "level": 1,
     "source": [
      "Convolutional neural networks for chord rec"
     ]
    },
    {
     "cell_type": "heading",
     "level": 2,
     "source": [
      "Setup"
     ]
    },
    {
     "cell_type": "markdown",
     "source": [
      "First let's import libraries and set up some convenience functions"
     ]
    },
    {
     "cell_type": "code",
     "collapsed": false,
     "input": [
      "%matplotlib inline\n",
      "\n",
      "!curl https://raw.githubusercontent.com/andreasjansson/chordrec/master/helpers.py > helpers.py 2>/dev/null\n",
      "import helpers\n",
      "from helpers import *\n",
      "\n",
      "plt.rcParams['figure.figsize'] = (10.0, 8.0)\n",
      "plt.rcParams['figure.facecolor'] = 'white'"
     ],
     "language": "python",
     "outputs": [],
     "prompt_number": 32
    },
    {
     "cell_type": "code",
     "collapsed": false,
     "input": [
      "import os\n",
      "helpers.S3_BUCKET = os.environ['AWS_S3_BUCKET']\n",
      "helpers.AWS_ACCESS_KEY_ID = os.environ['AWS_ACCESS_KEY_ID']\n",
      "helpers.AWS_SECRET_ACCESS_KEY = os.environ['AWS_SECRET_ACCESS_KEY']"
     ],
     "language": "python",
     "outputs": [],
     "prompt_number": 21
    },
    {
     "cell_type": "heading",
     "level": 2,
     "source": [
      "Data"
     ]
    },
    {
     "cell_type": "markdown",
     "source": [
      "Now we download the dataset. I have cached beat-aligned CQTs on S3."
     ]
    },
    {
     "cell_type": "code",
     "collapsed": false,
     "input": [
      "data = s3_get('chordrec/test_data/beat_aligned_hop4096.pkl', unpickle=True)"
     ],
     "language": "python",
     "outputs": [],
     "prompt_number": 15
    },
    {
     "cell_type": "markdown",
     "source": [
      "`data` is in the format `[(song1_pitchgram, song1_chords)]`, where the \"pitchgrams\" are 84-element vectors,\n",
      "7 octaves of chromagrams."
     ]
    },
    {
     "cell_type": "code",
     "collapsed": false,
     "input": [
      "print 'number of tracks:', len(data)"
     ],
     "language": "python",
     "outputs": [
      {
       "output_type": "stream",
       "stream": "stdout",
       "text": [
        "number of tracks: 890\n"
       ]
      }
     ],
     "prompt_number": 16
    },
    {
     "cell_type": "markdown",
     "source": [
      "The pitchgrams and chords are aligned on the beat level. For example, \"Maniac\" by Michale Sembello has 648 beats analyzed by echonest."
     ]
    },
    {
     "cell_type": "code",
     "collapsed": false,
     "input": [
      "maniac = data[375]\n",
      "pitchgram, chords = maniac\n",
      "\n",
      "print 'shape of pitchgrams:', pitchgram.shape\n",
      "print 'shape of chords:', chords.shape"
     ],
     "language": "python",
     "outputs": [
      {
       "output_type": "stream",
       "stream": "stdout",
       "text": [
        "shape of pitchgrams: (648, 84)\n",
        "shape of chords: (648,)\n"
       ]
      }
     ],
     "prompt_number": 22
    },
    {
     "cell_type": "markdown",
     "source": [
      "If we plot a subsection (from the 32nd to the 64th beat, C2 to C6) of the pitchgram against the chord labels we can confirm that our pitchgrams and chords are in fact aligned."
     ]
    },
    {
     "cell_type": "code",
     "collapsed": false,
     "input": [
      "helpers.plot_with_notes_and_chords(pitchgram, chords, min_time=32, max_time=64, min_pitch=12*2, max_pitch=12*6)"
     ],
     "language": "python",
     "outputs": [
      {
       "output_type": "display_data",
       "png": "[encoded data removed]",
       "text": [
        "<matplotlib.figure.Figure at 0x7f2694e56690>"
       ]
      }
     ],
     "prompt_number": 26
    },
    {
     "cell_type": "heading",
     "level": 2,
     "source": [
      "A simple softmax"
     ]
    },
    {
     "cell_type": "markdown",
     "source": [
      "As an initial baseline, we'll train a simple softmax model. First we need to flatten the data to a single pitchgram and a sparse chord matrix."
     ]
    },
    {
     "cell_type": "code",
     "collapsed": false,
     "input": [
      "flat_len = sum(len(p) for p, c in data)\n",
      "flat_pg = np.zeros((flat_len, data[0][0].shape[1]))\n",
      "flat_chords = np.zeros((flat_len, 1 + np.max(chords)))\n",
      "i = 0\n",
      "for p, c in data:\n",
      "    flat_pg[i:i + len(p)] = p\n",
      "    flat_chords[i: i + len(p), c] = 1\n",
      "    i += len(p)\n",
      "\n",
      "print flat_pg.shape"
     ],
     "language": "python",
     "outputs": [
      {
       "output_type": "stream",
       "stream": "stdout",
       "text": [
        "(344766, 84)\n"
       ]
      }
     ],
     "prompt_number": 29
    },
    {
     "cell_type": "code",
     "collapsed": false,
     "input": [
      "class LogisticRegression(object):\n",
      "    def __init__(self, input, n_in, n_out):\n",
      "        self.W = theano.shared(np.zeros((n_in, n_out)), name='W', borrow=True)\n",
      "        self.b = theano.shared(np.zeros((n_out,)), name='b', borrow=True)\n",
      "        self.p_y_given_x = T.nnet.softmax(T.dot(input, self.W) + self.b)\n",
      "        self.y_pred = T.argmax(self.p_y_given_x, axis=1)\n",
      "        self.params = [self.W, self.b]\n",
      "\n",
      "    def negative_log_likelihood(self, y):\n",
      "        return -T.mean(T.log(self.p_y_given_x)[T.arange(y.shape[0]), y])\n",
      "\n",
      "    def errors(self, y):\n",
      "        return T.mean(T.neq(self.y_pred, y))"
     ],
     "language": "python",
     "outputs": [],
     "prompt_number": 33
    },
    {
     "cell_type": "code",
     "collapsed": false,
     "input": [
      "x = T.matrix('x')\n",
      "y = T.ivector('y')\n",
      "classifier = LogisticRegression(input=x, n_in=flat_pg.shape[1], n_out=flat_chords.shape[1])"
     ],
     "language": "python",
     "outputs": [
      {
       "ename": "NameError",
       "evalue": "name 'T' is not defined",
       "output_type": "pyerr",
       "traceback": [
        "\u001b[1;31m---------------------------------------------------------------------------\u001b[0m\n\u001b[1;31mNameError\u001b[0m                                 Traceback (most recent call last)",
        "\u001b[1;32m<ipython-input-34-906297f79ea0>\u001b[0m in \u001b[0;36m<module>\u001b[1;34m()\u001b[0m\n\u001b[1;32m----> 1\u001b[1;33m \u001b[0mx\u001b[0m \u001b[1;33m=\u001b[0m \u001b[0mT\u001b[0m\u001b[1;33m.\u001b[0m\u001b[0mmatrix\u001b[0m\u001b[1;33m(\u001b[0m\u001b[1;34m'x'\u001b[0m\u001b[1;33m)\u001b[0m\u001b[1;33m\u001b[0m\u001b[0m\n\u001b[0m\u001b[0;32m      2\u001b[0m \u001b[0my\u001b[0m \u001b[1;33m=\u001b[0m \u001b[0mT\u001b[0m\u001b[1;33m.\u001b[0m\u001b[0mivector\u001b[0m\u001b[1;33m(\u001b[0m\u001b[1;34m'y'\u001b[0m\u001b[1;33m)\u001b[0m\u001b[1;33m\u001b[0m\u001b[0m\n\u001b[0;32m      3\u001b[0m \u001b[0mclassifier\u001b[0m \u001b[1;33m=\u001b[0m \u001b[0mLogisticRegression\u001b[0m\u001b[1;33m(\u001b[0m\u001b[0minput\u001b[0m\u001b[1;33m=\u001b[0m\u001b[0mx\u001b[0m\u001b[1;33m,\u001b[0m \u001b[0mn_in\u001b[0m\u001b[1;33m=\u001b[0m\u001b[0mflat_pg\u001b[0m\u001b[1;33m.\u001b[0m\u001b[0mshape\u001b[0m\u001b[1;33m[\u001b[0m\u001b[1;36m1\u001b[0m\u001b[1;33m]\u001b[0m\u001b[1;33m,\u001b[0m \u001b[0mn_out\u001b[0m\u001b[1;33m=\u001b[0m\u001b[0mflat_chords\u001b[0m\u001b[1;33m.\u001b[0m\u001b[0mshape\u001b[0m\u001b[1;33m[\u001b[0m\u001b[1;36m1\u001b[0m\u001b[1;33m]\u001b[0m\u001b[1;33m)\u001b[0m\u001b[1;33m\u001b[0m\u001b[0m\n",
        "\u001b[1;31mNameError\u001b[0m: name 'T' is not defined"
       ]
      }
     ],
     "prompt_number": 34
    }
   ]
  }
 ]
}