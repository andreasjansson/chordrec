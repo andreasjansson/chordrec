{
 "metadata": {
  "name": "",
  "signature": "sha256:42c400667a025d194107d2d8b63126d75120fe861ac5b33dba2cdafad2d6b879"
 },
 "nbformat": 3,
 "nbformat_minor": 0,
 "worksheets": [
  {
   "cells": [
    {
     "cell_type": "markdown",
     "source": [
      "TODO:\n",
      " * With the same train/test split, learn a convolutional auto-encoder over the symbolic chord space\n",
      " * Apply the same network to the output of the chord prediction model"
     ]
    },
    {
     "cell_type": "heading",
     "level": 1,
     "source": [
      "Convolutional neural networks for chord rec"
     ]
    },
    {
     "cell_type": "heading",
     "level": 2,
     "source": [
      "Setup"
     ]
    },
    {
     "cell_type": "markdown",
     "source": [
      "First let's import libraries and set up some convenience functions"
     ]
    },
    {
     "cell_type": "code",
     "collapsed": false,
     "input": [
      "%matplotlib inline\n",
      "\n",
      "import sys\n",
      "\n",
      "!pip install boto 1>/dev/null\n",
      "![ -d Lasagne ] || git clone https://github.com/benanne/Lasagne.git\n",
      "!cd Lasagne && sudo python setup.py install 1>/dev/null && cd .. \n",
      "sys.path.append('/usr/local/lib/python2.7/dist-packages/Lasagne-0.1dev-py2.7.egg')\n",
      "!curl https://raw.githubusercontent.com/andreasjansson/chordrec/master/helpers.py > helpers.py 2>/dev/null\n",
      "import helpers\n",
      "from helpers import *\n",
      "from theano.tensor.nnet import conv\n",
      "from theano.tensor.signal import downsample\n",
      "import math\n",
      "\n",
      "import lasagne\n",
      "\n",
      "floatX = theano.config.floatX"
     ],
     "language": "python",
     "outputs": [],
     "prompt_number": 4
    },
    {
     "cell_type": "code",
     "collapsed": false,
     "input": [
      "import os\n",
      "helpers.S3_BUCKET = os.environ['AWS_S3_BUCKET']\n",
      "helpers.AWS_ACCESS_KEY_ID = os.environ['AWS_ACCESS_KEY_ID']\n",
      "helpers.AWS_SECRET_ACCESS_KEY = os.environ['AWS_SECRET_ACCESS_KEY']"
     ],
     "language": "python",
     "outputs": [],
     "prompt_number": 5
    },
    {
     "cell_type": "heading",
     "level": 2,
     "source": [
      "Data"
     ]
    },
    {
     "cell_type": "markdown",
     "source": [
      "Now we download the dataset. I have cached beat-aligned CQTs on S3."
     ]
    },
    {
     "cell_type": "code",
     "collapsed": false,
     "input": [
      "data = s3_get('chordrec/test_data/beat_aligned_hop4096.pkl', unpickle=True)"
     ],
     "language": "python",
     "outputs": [],
     "prompt_number": 6
    },
    {
     "cell_type": "markdown",
     "source": [
      "`data` is in the format `[(song1_pitchgram, song1_chords)]`, where the \"pitchgrams\" are 84-element vectors,\n",
      "7 octaves of chromagrams."
     ]
    },
    {
     "cell_type": "code",
     "collapsed": false,
     "input": [
      "print 'number of tracks:', len(data)"
     ],
     "language": "python",
     "outputs": [
      {
       "output_type": "stream",
       "stream": "stdout",
       "text": [
        "number of tracks: 890\n"
       ]
      }
     ],
     "prompt_number": 7
    },
    {
     "cell_type": "markdown",
     "source": [
      "The pitchgrams and chords are aligned on the beat level. For example, \"Maniac\" by Michale Sembello has 648 beats analyzed by echonest."
     ]
    },
    {
     "cell_type": "code",
     "collapsed": false,
     "input": [
      "maniac = data[375]\n",
      "pitchgram, chords = maniac\n",
      "\n",
      "print 'shape of pitchgrams:', pitchgram.shape\n",
      "print 'shape of chords:', chords.shape"
     ],
     "language": "python",
     "outputs": [
      {
       "output_type": "stream",
       "stream": "stdout",
       "text": [
        "shape of pitchgrams: (648, 84)\n",
        "shape of chords: (648,)\n"
       ]
      }
     ],
     "prompt_number": 8
    },
    {
     "cell_type": "markdown",
     "source": [
      "If we plot a subsection (from the 32nd to the 64th beat, C2 to C6) of the pitchgram against the chord labels we can confirm that our pitchgrams and chords are in fact aligned."
     ]
    },
    {
     "cell_type": "code",
     "collapsed": false,
     "input": [
      "helpers.plot_with_notes_and_chords(pitchgram, chords, min_time=32, max_time=64, min_pitch=12*2, max_pitch=12*6)"
     ],
     "language": "python",
     "outputs": [
      {
       "output_type": "display_data",
       "png": "[encoded data removed]",
       "text": [
        "<matplotlib.figure.Figure at 0x7f3668e11910>"
       ]
      }
     ],
     "prompt_number": 9
    },
    {
     "cell_type": "heading",
     "level": 2,
     "source": [
      "A simple softmax"
     ]
    },
    {
     "cell_type": "markdown",
     "source": [
      "As an initial baseline, we'll train a simple softmax model. First we need to flatten the data to a single pitchgram and a sparse chord matrix."
     ]
    },
    {
     "cell_type": "code",
     "collapsed": false,
     "input": [
      "def as_theano_shared(x):\n",
      "    return theano.shared(x, borrow=True)\n",
      "def split_train_test_theano(data, classes, train_test_ratio, cast_classes_to_int):\n",
      "    if cast_classes_to_int:\n",
      "        cast = lambda x: T.cast(x, 'int32')\n",
      "    else:\n",
      "        cast = lambda x: x\n",
      "    assert len(data) == len(classes)\n",
      "    split_i = int(len(data) * train_test_ratio)\n",
      "    return (as_theano_shared(data[split_i:]),\n",
      "            cast(as_theano_shared(classes[split_i:])),\n",
      "            as_theano_shared(data[:split_i]),\n",
      "            cast(as_theano_shared(classes[:split_i])))"
     ],
     "language": "python",
     "outputs": [],
     "prompt_number": 16
    },
    {
     "cell_type": "code",
     "collapsed": false,
     "input": [
      "image_size_0 = 16, 84\n",
      "image_size_1 = 12, 12\n",
      "image_size_2 = 4, 4"
     ],
     "language": "python",
     "outputs": [],
     "prompt_number": 189
    },
    {
     "cell_type": "code",
     "collapsed": false,
     "input": [
      "patch_width, num_pitches = image_size_0\n",
      "\n",
      "# small_data = data[:20]\n",
      "small_data = data\n",
      "split_points = []\n",
      "\n",
      "stride = 4\n",
      "flat_len = int(sum(math.ceil((len(p) - patch_width + 1) / float(stride)) for p, c in small_data))\n",
      "model_input = np.zeros((flat_len, 1, patch_width, num_pitches), dtype=floatX)\n",
      "model_output = np.zeros((flat_len, patch_width, num_chords), dtype='int32')\n",
      "i = 0\n",
      "for p, c in small_data:\n",
      "    for j in range(0, len(p) - patch_width + 1, stride):\n",
      "        for k in range(patch_width):\n",
      "            model_input[i, 0, k] = p[j + k]\n",
      "            if c[j + k] < 24:\n",
      "                model_output[i, k, c[j + k]] = 1\n",
      "        i += 1"
     ],
     "language": "python",
     "outputs": [],
     "prompt_number": 456
    },
    {
     "cell_type": "code",
     "collapsed": false,
     "input": [
      "model_output = model_output.reshape(flat_len, patch_width * num_chords)"
     ],
     "language": "python",
     "outputs": [],
     "prompt_number": 457
    },
    {
     "cell_type": "code",
     "collapsed": false,
     "input": [
      "model_train_input = model_train_output = model_test_input = model_test_output = None # free some memory\n",
      "model_train_input, model_train_output, model_test_input, model_test_output = split_train_test_theano(model_input, model_output, 0.5, True)"
     ],
     "language": "python",
     "outputs": [],
     "prompt_number": 458
    },
    {
     "cell_type": "code",
     "collapsed": false,
     "input": [
      "def get_model():\n",
      "    input_layer = lasagne.layers.InputLayer(\n",
      "        shape=(batch_size, 1, patch_width, num_pitches)\n",
      "    )\n",
      "\n",
      "    conv_layer_1 = lasagne.layers.Conv2DLayer(\n",
      "        input_layer,\n",
      "        num_filters=50,\n",
      "        filter_size=image_size_1,\n",
      "        nonlinearity=lasagne.nonlinearities.tanh,\n",
      "        W=lasagne.init.Uniform(),\n",
      "    )\n",
      "\n",
      "    conv_layer_2 = lasagne.layers.Conv2DLayer(\n",
      "        #conv_layer_1,\n",
      "        conv_layer_1,\n",
      "        num_filters=50,\n",
      "        filter_size=image_size_2,\n",
      "        nonlinearity=lasagne.nonlinearities.tanh,\n",
      "        W=lasagne.init.Uniform(),\n",
      "    )\n",
      "\n",
      "    hidden_layer = lasagne.layers.DenseLayer(\n",
      "        #conv_layer_1,\n",
      "        input_layer,\n",
      "        num_units=10000,\n",
      "        nonlinearity=lasagne.nonlinearities.softmax,\n",
      "        W=lasagne.init.Uniform(),\n",
      "    )\n",
      "\n",
      "    output_layer = lasagne.layers.DenseLayer(\n",
      "        conv_layer_2,\n",
      "        #hidden_layer,\n",
      "        num_units=patch_width * num_chords,\n",
      "        nonlinearity=lasagne.nonlinearities.softmax,\n",
      "        W=lasagne.init.Uniform(),\n",
      "    )\n",
      "\n",
      "    learning_rate = 0.005\n",
      "\n",
      "    batch_index = T.lscalar('batch_index')\n",
      "    index = T.lscalar()\n",
      "    x_batch = T.tensor4('x')\n",
      "    y_batch = T.imatrix('y')\n",
      "    batch_slice = slice(batch_index * batch_size, (batch_index + 1) * batch_size)\n",
      "\n",
      "    objective = lasagne.objectives.Objective(output_layer, loss_function=lasagne.objectives.multinomial_nll)\n",
      "\n",
      "    loss_train = objective.get_loss(x_batch, target=y_batch) + 0.0001 * lasagne.regularization.l2(output_layer)\n",
      "    loss_eval = objective.get_loss(x_batch, target=y_batch, deterministic=True)\n",
      "\n",
      "    pred = output_layer.get_output(x_batch, deterministic=True).reshape((batch_size, patch_width, num_chords)).argmax(axis=2)\n",
      "    actual = y_batch.reshape((batch_size, patch_width, num_chords)).argmax(axis=2)\n",
      "    accuracy = T.mean(T.eq(pred, actual), dtype=floatX)\n",
      "\n",
      "    all_params = lasagne.layers.get_all_params(output_layer)\n",
      "    updates = lasagne.updates.sgd(loss_train, all_params, learning_rate)\n",
      "\n",
      "    train = theano.function(\n",
      "        [batch_index],\n",
      "        loss_train,\n",
      "        updates=updates,\n",
      "        givens={\n",
      "            x_batch: model_train_input[batch_slice],\n",
      "            y_batch: model_train_output[batch_slice],\n",
      "        }\n",
      "    )\n",
      "\n",
      "    test = theano.function(\n",
      "        [batch_index],\n",
      "        [loss_eval, accuracy],\n",
      "        givens={\n",
      "            x_batch: model_test_input[batch_slice],\n",
      "            y_batch: model_test_output[batch_slice],\n",
      "         },\n",
      "    )\n",
      "\n",
      "    predict = theano.function(\n",
      "        [batch_index],\n",
      "        output_layer.get_output(x_batch, deterministic=True),\n",
      "        givens={\n",
      "            x_batch: model_test_input[batch_slice],\n",
      "         },\n",
      "    )\n",
      "\n",
      "    return train, test, (input_layer, conv_layer_1, conv_layer_2, output_layer), predict\n",
      "\n",
      "model_train, model_test, model_layers, model_predict = get_model()\n",
      "\n",
      "model_train_batches = model_train_input.get_value(borrow=True).shape[0] / batch_size\n",
      "model_test_batches = model_test_input.get_value(borrow=True).shape[0] / batch_size"
     ],
     "language": "python",
     "outputs": [],
     "prompt_number": 466
    },
    {
     "cell_type": "code",
     "collapsed": false,
     "input": [
      "N_EPOCHS=200\n",
      "\n",
      "for epoch in range(N_EPOCHS):\n",
      "    for minibatch_index in range(model_train_batches):\n",
      "        print minibatch_index, len(model_train_batches)\n",
      "        model_train(minibatch_index)\n",
      "    print np.max(model_layers[-1].W.get_value(borrow=True))\n",
      "    test_error = np.mean([model_test(i)[1] for i in range(model_test_batches)])\n",
      "    print 'epoch %d; accuracy: %f' % (\n",
      "        epoch, test_error)"
     ],
     "language": "python",
     "outputs": [
      {
       "output_type": "stream",
       "stream": "stdout",
       "text": [
        "0\n",
        "1"
       ]
      },
      {
       "output_type": "stream",
       "stream": "stdout",
       "text": [
        "\n",
        "2"
       ]
      },
      {
       "output_type": "stream",
       "stream": "stdout",
       "text": [
        "\n",
        "3"
       ]
      },
      {
       "output_type": "stream",
       "stream": "stdout",
       "text": [
        "\n",
        "4"
       ]
      },
      {
       "output_type": "stream",
       "stream": "stdout",
       "text": [
        "\n",
        "5"
       ]
      },
      {
       "output_type": "stream",
       "stream": "stdout",
       "text": [
        "\n",
        "6"
       ]
      },
      {
       "output_type": "stream",
       "stream": "stdout",
       "text": [
        "\n",
        "7"
       ]
      },
      {
       "output_type": "stream",
       "stream": "stdout",
       "text": [
        "\n",
        "8"
       ]
      },
      {
       "output_type": "stream",
       "stream": "stdout",
       "text": [
        "\n",
        "9"
       ]
      },
      {
       "output_type": "stream",
       "stream": "stdout",
       "text": [
        "\n",
        "10"
       ]
      },
      {
       "output_type": "stream",
       "stream": "stdout",
       "text": [
        "\n",
        "11"
       ]
      },
      {
       "output_type": "stream",
       "stream": "stdout",
       "text": [
        "\n",
        "12"
       ]
      },
      {
       "output_type": "stream",
       "stream": "stdout",
       "text": [
        "\n",
        "13"
       ]
      },
      {
       "output_type": "stream",
       "stream": "stdout",
       "text": [
        "\n",
        "14"
       ]
      },
      {
       "output_type": "stream",
       "stream": "stdout",
       "text": [
        "\n",
        "15"
       ]
      },
      {
       "output_type": "stream",
       "stream": "stdout",
       "text": [
        "\n",
        "16"
       ]
      },
      {
       "output_type": "stream",
       "stream": "stdout",
       "text": [
        "\n",
        "17"
       ]
      },
      {
       "output_type": "stream",
       "stream": "stdout",
       "text": [
        "\n",
        "18"
       ]
      },
      {
       "output_type": "stream",
       "stream": "stdout",
       "text": [
        "\n",
        "19"
       ]
      },
      {
       "output_type": "stream",
       "stream": "stdout",
       "text": [
        "\n",
        "20"
       ]
      },
      {
       "output_type": "stream",
       "stream": "stdout",
       "text": [
        "\n",
        "21"
       ]
      },
      {
       "output_type": "stream",
       "stream": "stdout",
       "text": [
        "\n",
        "22"
       ]
      },
      {
       "output_type": "stream",
       "stream": "stdout",
       "text": [
        "\n",
        "23"
       ]
      },
      {
       "output_type": "stream",
       "stream": "stdout",
       "text": [
        "\n",
        "24"
       ]
      },
      {
       "output_type": "stream",
       "stream": "stdout",
       "text": [
        "\n",
        "25"
       ]
      },
      {
       "output_type": "stream",
       "stream": "stdout",
       "text": [
        "\n",
        "26"
       ]
      },
      {
       "output_type": "stream",
       "stream": "stdout",
       "text": [
        "\n",
        "27"
       ]
      },
      {
       "output_type": "stream",
       "stream": "stdout",
       "text": [
        "\n",
        "28"
       ]
      },
      {
       "output_type": "stream",
       "stream": "stdout",
       "text": [
        "\n",
        "29"
       ]
      },
      {
       "output_type": "stream",
       "stream": "stdout",
       "text": [
        "\n",
        "30"
       ]
      },
      {
       "output_type": "stream",
       "stream": "stdout",
       "text": [
        "\n",
        "31"
       ]
      },
      {
       "output_type": "stream",
       "stream": "stdout",
       "text": [
        "\n",
        "32"
       ]
      },
      {
       "output_type": "stream",
       "stream": "stdout",
       "text": [
        "\n",
        "33"
       ]
      },
      {
       "output_type": "stream",
       "stream": "stdout",
       "text": [
        "\n",
        "34"
       ]
      },
      {
       "output_type": "stream",
       "stream": "stdout",
       "text": [
        "\n",
        "35"
       ]
      },
      {
       "output_type": "stream",
       "stream": "stdout",
       "text": [
        "\n"
       ]
      },
      {
       "ename": "KeyboardInterrupt",
       "evalue": "",
       "output_type": "pyerr",
       "traceback": [
        "\u001b[1;31m---------------------------------------------------------------------------\u001b[0m\n\u001b[1;31mKeyboardInterrupt\u001b[0m                         Traceback (most recent call last)",
        "\u001b[1;32m<ipython-input-475-646f985c7274>\u001b[0m in \u001b[0;36m<module>\u001b[1;34m()\u001b[0m\n\u001b[0;32m      4\u001b[0m     \u001b[1;32mfor\u001b[0m \u001b[0mminibatch_index\u001b[0m \u001b[1;32min\u001b[0m \u001b[0mrange\u001b[0m\u001b[1;33m(\u001b[0m\u001b[0mmodel_train_batches\u001b[0m\u001b[1;33m)\u001b[0m\u001b[1;33m:\u001b[0m\u001b[1;33m\u001b[0m\u001b[0m\n\u001b[0;32m      5\u001b[0m         \u001b[1;32mprint\u001b[0m \u001b[0mminibatch_index\u001b[0m\u001b[1;33m\u001b[0m\u001b[0m\n\u001b[1;32m----> 6\u001b[1;33m         \u001b[0mmodel_train\u001b[0m\u001b[1;33m(\u001b[0m\u001b[0mminibatch_index\u001b[0m\u001b[1;33m)\u001b[0m\u001b[1;33m\u001b[0m\u001b[0m\n\u001b[0m\u001b[0;32m      7\u001b[0m     \u001b[1;32mprint\u001b[0m \u001b[0mnp\u001b[0m\u001b[1;33m.\u001b[0m\u001b[0mmax\u001b[0m\u001b[1;33m(\u001b[0m\u001b[0mmodel_layers\u001b[0m\u001b[1;33m[\u001b[0m\u001b[1;33m-\u001b[0m\u001b[1;36m1\u001b[0m\u001b[1;33m]\u001b[0m\u001b[1;33m.\u001b[0m\u001b[0mW\u001b[0m\u001b[1;33m.\u001b[0m\u001b[0mget_value\u001b[0m\u001b[1;33m(\u001b[0m\u001b[0mborrow\u001b[0m\u001b[1;33m=\u001b[0m\u001b[0mTrue\u001b[0m\u001b[1;33m)\u001b[0m\u001b[1;33m)\u001b[0m\u001b[1;33m\u001b[0m\u001b[0m\n\u001b[0;32m      8\u001b[0m     \u001b[0mtest_error\u001b[0m \u001b[1;33m=\u001b[0m \u001b[0mnp\u001b[0m\u001b[1;33m.\u001b[0m\u001b[0mmean\u001b[0m\u001b[1;33m(\u001b[0m\u001b[1;33m[\u001b[0m\u001b[0mmodel_test\u001b[0m\u001b[1;33m(\u001b[0m\u001b[0mi\u001b[0m\u001b[1;33m)\u001b[0m\u001b[1;33m[\u001b[0m\u001b[1;36m1\u001b[0m\u001b[1;33m]\u001b[0m \u001b[1;32mfor\u001b[0m \u001b[0mi\u001b[0m \u001b[1;32min\u001b[0m \u001b[0mrange\u001b[0m\u001b[1;33m(\u001b[0m\u001b[0mmodel_test_batches\u001b[0m\u001b[1;33m)\u001b[0m\u001b[1;33m]\u001b[0m\u001b[1;33m)\u001b[0m\u001b[1;33m\u001b[0m\u001b[0m\n",
        "\u001b[1;32m/usr/local/lib/python2.7/dist-packages/theano/compile/function_module.pyc\u001b[0m in \u001b[0;36m__call__\u001b[1;34m(self, *args, **kwargs)\u001b[0m\n\u001b[0;32m    577\u001b[0m         \u001b[0mt0_fn\u001b[0m \u001b[1;33m=\u001b[0m \u001b[0mtime\u001b[0m\u001b[1;33m.\u001b[0m\u001b[0mtime\u001b[0m\u001b[1;33m(\u001b[0m\u001b[1;33m)\u001b[0m\u001b[1;33m\u001b[0m\u001b[0m\n\u001b[0;32m    578\u001b[0m         \u001b[1;32mtry\u001b[0m\u001b[1;33m:\u001b[0m\u001b[1;33m\u001b[0m\u001b[0m\n\u001b[1;32m--> 579\u001b[1;33m             \u001b[0moutputs\u001b[0m \u001b[1;33m=\u001b[0m \u001b[0mself\u001b[0m\u001b[1;33m.\u001b[0m\u001b[0mfn\u001b[0m\u001b[1;33m(\u001b[0m\u001b[1;33m)\u001b[0m\u001b[1;33m\u001b[0m\u001b[0m\n\u001b[0m\u001b[0;32m    580\u001b[0m         \u001b[1;32mexcept\u001b[0m \u001b[0mException\u001b[0m\u001b[1;33m:\u001b[0m\u001b[1;33m\u001b[0m\u001b[0m\n\u001b[0;32m    581\u001b[0m             \u001b[1;32mif\u001b[0m \u001b[0mhasattr\u001b[0m\u001b[1;33m(\u001b[0m\u001b[0mself\u001b[0m\u001b[1;33m.\u001b[0m\u001b[0mfn\u001b[0m\u001b[1;33m,\u001b[0m \u001b[1;34m'position_of_error'\u001b[0m\u001b[1;33m)\u001b[0m\u001b[1;33m:\u001b[0m\u001b[1;33m\u001b[0m\u001b[0m\n",
        "\u001b[1;31mKeyboardInterrupt\u001b[0m: "
       ]
      }
     ],
     "prompt_number": 475
    },
    {
     "cell_type": "code",
     "collapsed": false,
     "input": [
      "batch_size = 1000"
     ],
     "language": "python",
     "outputs": []
    },
    {
     "cell_type": "code",
     "collapsed": false,
     "input": [
      "chord_patch_width = 64\n",
      "chords = [c for d, c in data if len(c) >= chord_patch_width]\n",
      "chord_stride = 4\n",
      "num_chord_vecs = int(sum(math.ceil((len(c) - chord_patch_width + 1) / float(chord_stride)) for c in chords))\n",
      "               \n",
      "num_chords = 24\n",
      "num_chords_input = num_chords + num_chords - 2 # C to B + C to Bb\n",
      "chords_input = np.zeros((num_chord_vecs, chord_patch_width, num_chords_input), dtype=floatX)\n",
      "chords_output = np.zeros((num_chord_vecs, chord_patch_width, num_chords), dtype='int32')\n",
      "i = 0\n",
      "for a, c in enumerate(chords):\n",
      "    for j in range(0, len(c) - chord_patch_width + 1, chord_stride):\n",
      "        for k in range(chord_patch_width):\n",
      "            n =  c[j + k]\n",
      "            if n >= 24:\n",
      "                continue\n",
      "\n",
      "            chords_input[i, k, n] = 1\n",
      "            if n < 22:\n",
      "                chords_input[i, k, n + 24] = 1\n",
      "            chords_output[i, k, n] = 1\n",
      "        i += 1\n",
      "\n",
      "chords_input = chords_input.reshape(num_chord_vecs, 1, chord_patch_width, num_chords_input)\n",
      "chords_output = chords_output.reshape(num_chord_vecs, chord_patch_width * num_chords)\n",
      "chord_train_input, chord_train_output, chord_test_input, chord_test_output = split_train_test_theano(chords_input, chords_output, 0.5, True)\n",
      "\n",
      "chord_train_batches = chord_train_input.get_value(borrow=True).shape[0] / batch_size\n",
      "chord_test_batches = chord_test_input.get_value(borrow=True).shape[0] / batch_size"
     ],
     "language": "python",
     "outputs": [
      {
       "ename": "MemoryError",
       "evalue": "('Error allocating 426950656 bytes of device memory (out of memory).', \"you might consider using 'theano.shared(..., borrow=True)'\")",
       "output_type": "pyerr",
       "traceback": [
        "\u001b[1;31m---------------------------------------------------------------------------\u001b[0m\n\u001b[1;31mMemoryError\u001b[0m                               Traceback (most recent call last)",
        "\u001b[1;32m<ipython-input-147-bce603753687>\u001b[0m in \u001b[0;36m<module>\u001b[1;34m()\u001b[0m\n\u001b[0;32m     24\u001b[0m \u001b[0mchords_input\u001b[0m \u001b[1;33m=\u001b[0m \u001b[0mchords_input\u001b[0m\u001b[1;33m.\u001b[0m\u001b[0mreshape\u001b[0m\u001b[1;33m(\u001b[0m\u001b[0mnum_chord_vecs\u001b[0m\u001b[1;33m,\u001b[0m \u001b[1;36m1\u001b[0m\u001b[1;33m,\u001b[0m \u001b[0mchord_patch_width\u001b[0m\u001b[1;33m,\u001b[0m \u001b[0mnum_chords_input\u001b[0m\u001b[1;33m)\u001b[0m\u001b[1;33m\u001b[0m\u001b[0m\n\u001b[0;32m     25\u001b[0m \u001b[0mchords_output\u001b[0m \u001b[1;33m=\u001b[0m \u001b[0mchords_output\u001b[0m\u001b[1;33m.\u001b[0m\u001b[0mreshape\u001b[0m\u001b[1;33m(\u001b[0m\u001b[0mnum_chord_vecs\u001b[0m\u001b[1;33m,\u001b[0m \u001b[0mchord_patch_width\u001b[0m \u001b[1;33m*\u001b[0m \u001b[0mnum_chords\u001b[0m\u001b[1;33m)\u001b[0m\u001b[1;33m\u001b[0m\u001b[0m\n\u001b[1;32m---> 26\u001b[1;33m \u001b[0mchord_train_input\u001b[0m\u001b[1;33m,\u001b[0m \u001b[0mchord_train_output\u001b[0m\u001b[1;33m,\u001b[0m \u001b[0mchord_test_input\u001b[0m\u001b[1;33m,\u001b[0m \u001b[0mchord_test_output\u001b[0m \u001b[1;33m=\u001b[0m \u001b[0msplit_train_test_theano\u001b[0m\u001b[1;33m(\u001b[0m\u001b[0mchords_input\u001b[0m\u001b[1;33m,\u001b[0m \u001b[0mchords_output\u001b[0m\u001b[1;33m,\u001b[0m \u001b[1;36m0.5\u001b[0m\u001b[1;33m,\u001b[0m \u001b[0mTrue\u001b[0m\u001b[1;33m)\u001b[0m\u001b[1;33m\u001b[0m\u001b[0m\n\u001b[0m\u001b[0;32m     27\u001b[0m \u001b[1;33m\u001b[0m\u001b[0m\n\u001b[0;32m     28\u001b[0m \u001b[0mchord_train_batches\u001b[0m \u001b[1;33m=\u001b[0m \u001b[0mchord_train_input\u001b[0m\u001b[1;33m.\u001b[0m\u001b[0mget_value\u001b[0m\u001b[1;33m(\u001b[0m\u001b[0mborrow\u001b[0m\u001b[1;33m=\u001b[0m\u001b[0mTrue\u001b[0m\u001b[1;33m)\u001b[0m\u001b[1;33m.\u001b[0m\u001b[0mshape\u001b[0m\u001b[1;33m[\u001b[0m\u001b[1;36m0\u001b[0m\u001b[1;33m]\u001b[0m \u001b[1;33m/\u001b[0m \u001b[0mbatch_size\u001b[0m\u001b[1;33m\u001b[0m\u001b[0m\n",
        "\u001b[1;32m<ipython-input-16-d58a01952b09>\u001b[0m in \u001b[0;36msplit_train_test_theano\u001b[1;34m(data, classes, train_test_ratio, cast_classes_to_int)\u001b[0m\n\u001b[0;32m      8\u001b[0m     \u001b[1;32massert\u001b[0m \u001b[0mlen\u001b[0m\u001b[1;33m(\u001b[0m\u001b[0mdata\u001b[0m\u001b[1;33m)\u001b[0m \u001b[1;33m==\u001b[0m \u001b[0mlen\u001b[0m\u001b[1;33m(\u001b[0m\u001b[0mclasses\u001b[0m\u001b[1;33m)\u001b[0m\u001b[1;33m\u001b[0m\u001b[0m\n\u001b[0;32m      9\u001b[0m     \u001b[0msplit_i\u001b[0m \u001b[1;33m=\u001b[0m \u001b[0mint\u001b[0m\u001b[1;33m(\u001b[0m\u001b[0mlen\u001b[0m\u001b[1;33m(\u001b[0m\u001b[0mdata\u001b[0m\u001b[1;33m)\u001b[0m \u001b[1;33m*\u001b[0m \u001b[0mtrain_test_ratio\u001b[0m\u001b[1;33m)\u001b[0m\u001b[1;33m\u001b[0m\u001b[0m\n\u001b[1;32m---> 10\u001b[1;33m     return (as_theano_shared(data[split_i:]),\n\u001b[0m\u001b[0;32m     11\u001b[0m             \u001b[0mcast\u001b[0m\u001b[1;33m(\u001b[0m\u001b[0mas_theano_shared\u001b[0m\u001b[1;33m(\u001b[0m\u001b[0mclasses\u001b[0m\u001b[1;33m[\u001b[0m\u001b[0msplit_i\u001b[0m\u001b[1;33m:\u001b[0m\u001b[1;33m]\u001b[0m\u001b[1;33m)\u001b[0m\u001b[1;33m)\u001b[0m\u001b[1;33m,\u001b[0m\u001b[1;33m\u001b[0m\u001b[0m\n\u001b[0;32m     12\u001b[0m             \u001b[0mas_theano_shared\u001b[0m\u001b[1;33m(\u001b[0m\u001b[0mdata\u001b[0m\u001b[1;33m[\u001b[0m\u001b[1;33m:\u001b[0m\u001b[0msplit_i\u001b[0m\u001b[1;33m]\u001b[0m\u001b[1;33m)\u001b[0m\u001b[1;33m,\u001b[0m\u001b[1;33m\u001b[0m\u001b[0m\n",
        "\u001b[1;32m<ipython-input-16-d58a01952b09>\u001b[0m in \u001b[0;36mas_theano_shared\u001b[1;34m(x)\u001b[0m\n\u001b[0;32m      1\u001b[0m \u001b[1;32mdef\u001b[0m \u001b[0mas_theano_shared\u001b[0m\u001b[1;33m(\u001b[0m\u001b[0mx\u001b[0m\u001b[1;33m)\u001b[0m\u001b[1;33m:\u001b[0m\u001b[1;33m\u001b[0m\u001b[0m\n\u001b[1;32m----> 2\u001b[1;33m     \u001b[1;32mreturn\u001b[0m \u001b[0mtheano\u001b[0m\u001b[1;33m.\u001b[0m\u001b[0mshared\u001b[0m\u001b[1;33m(\u001b[0m\u001b[0mx\u001b[0m\u001b[1;33m,\u001b[0m \u001b[0mborrow\u001b[0m\u001b[1;33m=\u001b[0m\u001b[0mTrue\u001b[0m\u001b[1;33m)\u001b[0m\u001b[1;33m\u001b[0m\u001b[0m\n\u001b[0m\u001b[0;32m      3\u001b[0m \u001b[1;32mdef\u001b[0m \u001b[0msplit_train_test_theano\u001b[0m\u001b[1;33m(\u001b[0m\u001b[0mdata\u001b[0m\u001b[1;33m,\u001b[0m \u001b[0mclasses\u001b[0m\u001b[1;33m,\u001b[0m \u001b[0mtrain_test_ratio\u001b[0m\u001b[1;33m,\u001b[0m \u001b[0mcast_classes_to_int\u001b[0m\u001b[1;33m)\u001b[0m\u001b[1;33m:\u001b[0m\u001b[1;33m\u001b[0m\u001b[0m\n\u001b[0;32m      4\u001b[0m     \u001b[1;32mif\u001b[0m \u001b[0mcast_classes_to_int\u001b[0m\u001b[1;33m:\u001b[0m\u001b[1;33m\u001b[0m\u001b[0m\n\u001b[0;32m      5\u001b[0m         \u001b[0mcast\u001b[0m \u001b[1;33m=\u001b[0m \u001b[1;32mlambda\u001b[0m \u001b[0mx\u001b[0m\u001b[1;33m:\u001b[0m \u001b[0mT\u001b[0m\u001b[1;33m.\u001b[0m\u001b[0mcast\u001b[0m\u001b[1;33m(\u001b[0m\u001b[0mx\u001b[0m\u001b[1;33m,\u001b[0m \u001b[1;34m'int32'\u001b[0m\u001b[1;33m)\u001b[0m\u001b[1;33m\u001b[0m\u001b[0m\n",
        "\u001b[1;32m/usr/local/lib/python2.7/dist-packages/theano/compile/sharedvalue.pyc\u001b[0m in \u001b[0;36mshared\u001b[1;34m(value, name, strict, allow_downcast, **kwargs)\u001b[0m\n\u001b[0;32m    188\u001b[0m             \u001b[1;32mtry\u001b[0m\u001b[1;33m:\u001b[0m\u001b[1;33m\u001b[0m\u001b[0m\n\u001b[0;32m    189\u001b[0m                 return ctor(value, name=name, strict=strict,\n\u001b[1;32m--> 190\u001b[1;33m                             allow_downcast=allow_downcast, **kwargs)\n\u001b[0m\u001b[0;32m    191\u001b[0m             \u001b[1;32mexcept\u001b[0m \u001b[0mTypeError\u001b[0m\u001b[1;33m:\u001b[0m\u001b[1;33m\u001b[0m\u001b[0m\n\u001b[0;32m    192\u001b[0m                 \u001b[1;32mcontinue\u001b[0m\u001b[1;33m\u001b[0m\u001b[0m\n",
        "\u001b[1;32m/usr/local/lib/python2.7/dist-packages/theano/sandbox/cuda/var.pyc\u001b[0m in \u001b[0;36mfloat32_shared_constructor\u001b[1;34m(value, name, strict, allow_downcast, borrow, broadcastable)\u001b[0m\n\u001b[0;32m    197\u001b[0m         \u001b[1;31m# type.broadcastable is guaranteed to be a tuple, which this next\u001b[0m\u001b[1;33m\u001b[0m\u001b[1;33m\u001b[0m\u001b[0m\n\u001b[0;32m    198\u001b[0m         \u001b[1;31m# function requires\u001b[0m\u001b[1;33m\u001b[0m\u001b[1;33m\u001b[0m\u001b[0m\n\u001b[1;32m--> 199\u001b[1;33m         \u001b[0mdeviceval\u001b[0m \u001b[1;33m=\u001b[0m \u001b[0mtype_support_filter\u001b[0m\u001b[1;33m(\u001b[0m\u001b[0mvalue\u001b[0m\u001b[1;33m,\u001b[0m \u001b[0mtype\u001b[0m\u001b[1;33m.\u001b[0m\u001b[0mbroadcastable\u001b[0m\u001b[1;33m,\u001b[0m \u001b[0mFalse\u001b[0m\u001b[1;33m,\u001b[0m \u001b[0mNone\u001b[0m\u001b[1;33m)\u001b[0m\u001b[1;33m\u001b[0m\u001b[0m\n\u001b[0m\u001b[0;32m    200\u001b[0m \u001b[1;33m\u001b[0m\u001b[0m\n\u001b[0;32m    201\u001b[0m     \u001b[1;32mtry\u001b[0m\u001b[1;33m:\u001b[0m\u001b[1;33m\u001b[0m\u001b[0m\n",
        "\u001b[1;31mMemoryError\u001b[0m: ('Error allocating 426950656 bytes of device memory (out of memory).', \"you might consider using 'theano.shared(..., borrow=True)'\")"
       ]
      }
     ],
     "prompt_number": 147
    },
    {
     "cell_type": "code",
     "collapsed": false,
     "input": [
      "def get_autoencoder():\n",
      "    input_layer = lasagne.layers.InputLayer(\n",
      "        shape=(batch_size, 1, chord_patch_width, num_chords_input)\n",
      "    )\n",
      "\n",
      "    conv_layer = lasagne.layers.Conv2DLayer(\n",
      "        input_layer,\n",
      "        num_filters=20,\n",
      "        filter_size=(12, 12),\n",
      "        nonlinearity=lasagne.nonlinearities.rectify,\n",
      "        W=lasagne.init.Uniform(),\n",
      "    )\n",
      "\n",
      "    output_layer = lasagne.layers.DenseLayer(\n",
      "        conv_layer,\n",
      "        num_units=chord_patch_width * num_chords,\n",
      "        nonlinearity=lasagne.nonlinearities.softmax,\n",
      "        W=lasagne.init.Uniform(),\n",
      "    )\n",
      "\n",
      "    learning_rate = 0.01\n",
      "\n",
      "    batch_index = T.lscalar('batch_index')\n",
      "    index = T.lscalar()\n",
      "    x_batch = T.tensor4('x')\n",
      "    y_batch = T.imatrix('y')\n",
      "    batch_slice = slice(batch_index * batch_size, (batch_index + 1) * batch_size)\n",
      "\n",
      "    objective = lasagne.objectives.Objective(output_layer, loss_function=lasagne.objectives.multinomial_nll)\n",
      "\n",
      "    loss_train = objective.get_loss(x_batch, target=y_batch)\n",
      "    loss_eval = objective.get_loss(x_batch, target=y_batch, deterministic=True)\n",
      "\n",
      "    pred = output_layer.get_output(x_batch, deterministic=True).reshape((batch_size, chord_patch_width, num_chords)).argmax(axis=2)\n",
      "    actual = y_batch.reshape((batch_size, chord_patch_width, num_chords)).argmax(axis=2)\n",
      "    accuracy = T.mean(T.eq(pred, actual), dtype=floatX)\n",
      "\n",
      "    all_params = lasagne.layers.get_all_params(output_layer)\n",
      "    updates = lasagne.updates.sgd(loss_train, all_params, learning_rate)\n",
      "\n",
      "    train = theano.function(\n",
      "        [batch_index],\n",
      "        loss_train,\n",
      "        updates=updates,\n",
      "        givens={\n",
      "            x_batch: chord_train_input[batch_slice],\n",
      "            y_batch: chord_train_output[batch_slice],\n",
      "        }\n",
      "    )\n",
      "\n",
      "    test = theano.function(\n",
      "        [batch_index],\n",
      "        [loss_eval, accuracy],\n",
      "        givens={\n",
      "            x_batch: chord_test_input[batch_slice],\n",
      "            y_batch: chord_test_output[batch_slice],\n",
      "         },\n",
      "    )\n",
      "\n",
      "    test_model = theano.function(\n",
      "        [batch_index],\n",
      "        output_layer.get_output(x_batch, deterministic=True).reshape((batch_size, chord_patch_width, num_chords)),\n",
      "        givens={\n",
      "            x_batch: model_predictions[batch_slice]\n",
      "        }\n",
      "    )\n",
      "\n",
      "    return train, test, (input_layer, conv_layer, output_layer), test_model\n",
      "\n",
      "chord_train = chord_test = chord_layers = None\n",
      "chord_train, chord_test, chord_layers, test_model = get_autoencoder()"
     ],
     "language": "python",
     "outputs": [],
     "prompt_number": 348
    },
    {
     "cell_type": "code",
     "collapsed": false,
     "input": [
      "N_EPOCHS=200\n",
      "\n",
      "for epoch in range(N_EPOCHS):\n",
      "    for minibatch_index in range(chord_train_batches):\n",
      "        chord_train(minibatch_index)\n",
      "    test_error = np.mean([chord_test(i)[1] for i in range(chord_test_batches)])\n",
      "    print 'epoch %d; accuracy: %f' % (\n",
      "        epoch, test_error)"
     ],
     "language": "python",
     "outputs": [
      {
       "output_type": "stream",
       "stream": "stdout",
       "text": [
        "epoch 0; accuracy: 0.851425\n",
        "epoch 1; accuracy: 0.862222"
       ]
      },
      {
       "output_type": "stream",
       "stream": "stdout",
       "text": [
        "\n",
        "epoch 2; accuracy: 0.870437"
       ]
      },
      {
       "output_type": "stream",
       "stream": "stdout",
       "text": [
        "\n"
       ]
      },
      {
       "ename": "KeyboardInterrupt",
       "evalue": "",
       "output_type": "pyerr",
       "traceback": [
        "\u001b[1;31m---------------------------------------------------------------------------\u001b[0m\n\u001b[1;31mKeyboardInterrupt\u001b[0m                         Traceback (most recent call last)",
        "\u001b[1;32m<ipython-input-371-bb00f3a2187b>\u001b[0m in \u001b[0;36m<module>\u001b[1;34m()\u001b[0m\n\u001b[0;32m      3\u001b[0m \u001b[1;32mfor\u001b[0m \u001b[0mepoch\u001b[0m \u001b[1;32min\u001b[0m \u001b[0mrange\u001b[0m\u001b[1;33m(\u001b[0m\u001b[0mN_EPOCHS\u001b[0m\u001b[1;33m)\u001b[0m\u001b[1;33m:\u001b[0m\u001b[1;33m\u001b[0m\u001b[0m\n\u001b[0;32m      4\u001b[0m     \u001b[1;32mfor\u001b[0m \u001b[0mminibatch_index\u001b[0m \u001b[1;32min\u001b[0m \u001b[0mrange\u001b[0m\u001b[1;33m(\u001b[0m\u001b[0mchord_train_batches\u001b[0m\u001b[1;33m)\u001b[0m\u001b[1;33m:\u001b[0m\u001b[1;33m\u001b[0m\u001b[0m\n\u001b[1;32m----> 5\u001b[1;33m         \u001b[0mchord_train\u001b[0m\u001b[1;33m(\u001b[0m\u001b[0mminibatch_index\u001b[0m\u001b[1;33m)\u001b[0m\u001b[1;33m\u001b[0m\u001b[0m\n\u001b[0m\u001b[0;32m      6\u001b[0m     \u001b[0mtest_error\u001b[0m \u001b[1;33m=\u001b[0m \u001b[0mnp\u001b[0m\u001b[1;33m.\u001b[0m\u001b[0mmean\u001b[0m\u001b[1;33m(\u001b[0m\u001b[1;33m[\u001b[0m\u001b[0mchord_test\u001b[0m\u001b[1;33m(\u001b[0m\u001b[0mi\u001b[0m\u001b[1;33m)\u001b[0m\u001b[1;33m[\u001b[0m\u001b[1;36m1\u001b[0m\u001b[1;33m]\u001b[0m \u001b[1;32mfor\u001b[0m \u001b[0mi\u001b[0m \u001b[1;32min\u001b[0m \u001b[0mrange\u001b[0m\u001b[1;33m(\u001b[0m\u001b[0mchord_test_batches\u001b[0m\u001b[1;33m)\u001b[0m\u001b[1;33m]\u001b[0m\u001b[1;33m)\u001b[0m\u001b[1;33m\u001b[0m\u001b[0m\n\u001b[0;32m      7\u001b[0m     print 'epoch %d; accuracy: %f' % (\n",
        "\u001b[1;32m/usr/local/lib/python2.7/dist-packages/theano/compile/function_module.pyc\u001b[0m in \u001b[0;36m__call__\u001b[1;34m(self, *args, **kwargs)\u001b[0m\n\u001b[0;32m    577\u001b[0m         \u001b[0mt0_fn\u001b[0m \u001b[1;33m=\u001b[0m \u001b[0mtime\u001b[0m\u001b[1;33m.\u001b[0m\u001b[0mtime\u001b[0m\u001b[1;33m(\u001b[0m\u001b[1;33m)\u001b[0m\u001b[1;33m\u001b[0m\u001b[0m\n\u001b[0;32m    578\u001b[0m         \u001b[1;32mtry\u001b[0m\u001b[1;33m:\u001b[0m\u001b[1;33m\u001b[0m\u001b[0m\n\u001b[1;32m--> 579\u001b[1;33m             \u001b[0moutputs\u001b[0m \u001b[1;33m=\u001b[0m \u001b[0mself\u001b[0m\u001b[1;33m.\u001b[0m\u001b[0mfn\u001b[0m\u001b[1;33m(\u001b[0m\u001b[1;33m)\u001b[0m\u001b[1;33m\u001b[0m\u001b[0m\n\u001b[0m\u001b[0;32m    580\u001b[0m         \u001b[1;32mexcept\u001b[0m \u001b[0mException\u001b[0m\u001b[1;33m:\u001b[0m\u001b[1;33m\u001b[0m\u001b[0m\n\u001b[0;32m    581\u001b[0m             \u001b[1;32mif\u001b[0m \u001b[0mhasattr\u001b[0m\u001b[1;33m(\u001b[0m\u001b[0mself\u001b[0m\u001b[1;33m.\u001b[0m\u001b[0mfn\u001b[0m\u001b[1;33m,\u001b[0m \u001b[1;34m'position_of_error'\u001b[0m\u001b[1;33m)\u001b[0m\u001b[1;33m:\u001b[0m\u001b[1;33m\u001b[0m\u001b[0m\n",
        "\u001b[1;31mKeyboardInterrupt\u001b[0m: "
       ]
      }
     ],
     "prompt_number": 371
    },
    {
     "cell_type": "code",
     "collapsed": false,
     "input": [
      "predictions = [model_predict(i) for i in range(model_test_batches)]\n",
      "mlen = 1000"
     ],
     "language": "python",
     "outputs": [],
     "prompt_number": 290
    },
    {
     "cell_type": "code",
     "collapsed": false,
     "input": [
      "model_predictions = np.zeros((mlen, 1, chord_patch_width, num_chords_input), dtype=floatX)\n",
      "actual = np.zeros((mlen, chord_patch_width, num_chords), dtype=int)\n",
      "i = j = 0\n",
      "print model_test_output.get_value(borrow=True).shape\n",
      "for pred_batch, actual_batch in zip(predictions[:10000], model_test_output.get_value(borrow=True)[:10000]):\n",
      "    for p, c in zip(pred_batch, actual_batch):\n",
      "        p = p.reshape(patch_width, num_chords)\n",
      "        p = p / (np.max(p) - np.min(p)) - np.min(p)\n",
      "        model_predictions[i, 0, j:j + len(p), :num_chords] = p\n",
      "        model_predictions[i, 0, j:j + len(p), num_chords:] = p[:, :22]\n",
      "        actual[i, j:j + len(p)] = c\n",
      "        j += len(p)\n",
      "        if j == chord_patch_width:\n",
      "            i += 1\n",
      "            j = 0\n",
      "            if i == mlen:\n",
      "                break\n",
      "    if i == mlen:\n",
      "        break\n",
      "\n",
      "model_predictions = as_theano_shared(model_predictions)"
     ],
     "language": "python",
     "outputs": [
      {
       "output_type": "stream",
       "stream": "stdout",
       "text": [
        "(10568, 384)\n"
       ]
      }
     ],
     "prompt_number": 422
    },
    {
     "cell_type": "code",
     "collapsed": false,
     "input": [
      "imshow(model_predictions.get_value(borrow=True)[2, 0, :, :24])"
     ],
     "language": "python",
     "outputs": [
      {
       "output_type": "pyout",
       "prompt_number": 376,
       "text": [
        "<matplotlib.image.AxesImage at 0x7f8772063790>"
       ]
      },
      {
       "output_type": "display_data",
       "png": "[encoded data removed]",
       "text": [
        "<matplotlib.figure.Figure at 0x7f8772071c90>"
       ]
      }
     ],
     "prompt_number": 376
    },
    {
     "cell_type": "code",
     "collapsed": false,
     "input": [
      "imshow(test_model(0)[0])\n"
     ],
     "language": "python",
     "outputs": [
      {
       "output_type": "pyout",
       "prompt_number": 399,
       "text": [
        "<matplotlib.image.AxesImage at 0x7f8771fca310>"
       ]
      },
      {
       "output_type": "display_data",
       "png": "[encoded data removed]",
       "text": [
        "<matplotlib.figure.Figure at 0x7f877202b250>"
       ]
      }
     ],
     "prompt_number": 399
    },
    {
     "cell_type": "code",
     "collapsed": false,
     "input": [
      "imshow(actual[4])"
     ],
     "language": "python",
     "outputs": [
      {
       "output_type": "pyout",
       "prompt_number": 412,
       "text": [
        "<matplotlib.image.AxesImage at 0x7f877156fe90>"
       ]
      },
      {
       "output_type": "display_data",
       "png": "[encoded data removed]",
       "text": [
        "<matplotlib.figure.Figure at 0x7f8771783a10>"
       ]
      }
     ],
     "prompt_number": 412
    },
    {
     "cell_type": "code",
     "collapsed": false,
     "input": [
      "predictions = [x for i in range(model_test_batches) for x in model_predict(i)]\n",
      "truth = model_test_output.get_value(borrow=True)[:len(predictions)]\n",
      "sum([x == y for (x, y) in zip(predictions, truth)]) / float(len(predictions))"
     ],
     "language": "python",
     "outputs": [
      {
       "output_type": "pyout",
       "prompt_number": 105,
       "text": [
        "0.50544767441860461"
       ]
      }
     ],
     "prompt_number": 105
    },
    {
     "cell_type": "code",
     "collapsed": false,
     "input": [
      "imshow(conv_layer.W.get_value(borrow=True)[5][0])"
     ],
     "language": "python",
     "outputs": [
      {
       "output_type": "pyout",
       "prompt_number": 28,
       "text": [
        "<matplotlib.image.AxesImage at 0x7f360973a6d0>"
       ]
      },
      {
       "output_type": "stream",
       "stream": "stderr",
       "text": [
        "/usr/lib/python2.7/dist-packages/numpy/ma/core.py:3847: UserWarning: Warning: converting a masked element to nan.\n",
        "  warnings.warn(\"Warning: converting a masked element to nan.\")\n"
       ]
      },
      {
       "output_type": "display_data",
       "png": "[encoded data removed]",
       "text": [
        "<matplotlib.figure.Figure at 0x7f363bfaa350>"
       ]
      }
     ],
     "prompt_number": 28
    }
   ]
  }
 ]
}