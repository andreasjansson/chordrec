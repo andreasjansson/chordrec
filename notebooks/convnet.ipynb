{
 "metadata": {
  "name": "",
  "signature": "sha256:4ed0998714c59d6831fa677bf3c3ef3beb1c0665e1ccfdc071b351b28ef001af"
 },
 "nbformat": 3,
 "nbformat_minor": 0,
 "worksheets": [
  {
   "cells": [
    {
     "cell_type": "heading",
     "level": 1,
     "source": [
      "Convolutional neural networks for chord rec"
     ]
    },
    {
     "cell_type": "heading",
     "level": 2,
     "source": [
      "Setup"
     ]
    },
    {
     "cell_type": "markdown",
     "source": [
      "First let's import libraries and set up some convenience functions"
     ]
    },
    {
     "cell_type": "code",
     "collapsed": false,
     "input": [
      "%matplotlib inline\n",
      "\n",
      "!curl https://raw.githubusercontent.com/andreasjansson/chordrec/master/helpers.py > helpers.py 2>/dev/null\n",
      "import helpers\n",
      "from helpers import imshow\n",
      "\n",
      "import matplotlib.pyplot as plt\n",
      "plt.rcParams['figure.figsize'] = (10.0, 8.0)"
     ],
     "language": "python",
     "outputs": [],
     "prompt_number": 44
    },
    {
     "cell_type": "code",
     "collapsed": false,
     "input": [
      "import os\n",
      "helpers.S3_BUCKET = os.environ['AWS_S3_BUCKET']\n",
      "helpers.AWS_ACCESS_KEY_ID = os.environ['AWS_ACCESS_KEY_ID']\n",
      "helpers.AWS_SECRET_ACCESS_KEY = os.environ['AWS_SECRET_ACCESS_KEY']"
     ],
     "language": "python",
     "outputs": [],
     "prompt_number": 33
    },
    {
     "cell_type": "heading",
     "level": 2,
     "source": [
      "Data"
     ]
    },
    {
     "cell_type": "markdown",
     "source": [
      "Now we download the dataset. I have cached beat-aligned CQTs on S3."
     ]
    },
    {
     "cell_type": "code",
     "collapsed": false,
     "input": [
      "data = helpers.s3_get('chordrec/test_data/beat_aligned_hop4096.pkl', unpickle=True)"
     ],
     "language": "python",
     "outputs": [],
     "prompt_number": 25
    },
    {
     "cell_type": "markdown",
     "source": [
      "`data` is in the format `[(song1_pitchgram, song1_chords)]`, where the \"pitchgrams\" are 84-element vectors,\n",
      "7 octaves of chromagrams."
     ]
    },
    {
     "cell_type": "code",
     "collapsed": false,
     "input": [
      "print 'number of tracks:', len(data)"
     ],
     "language": "python",
     "outputs": [
      {
       "output_type": "stream",
       "stream": "stdout",
       "text": [
        "number of tracks: 890\n"
       ]
      }
     ],
     "prompt_number": 30
    },
    {
     "cell_type": "markdown",
     "source": [
      "The pitchgrams and chords are aligned on the beat level. For example, \"Maniac\" by Michale Sembello has 648 beats analyzed by echonest."
     ]
    },
    {
     "cell_type": "code",
     "collapsed": false,
     "input": [
      "maniac = data[375]\n",
      "pitchgram, chords = maniac\n",
      "\n",
      "print 'shape of pitchgrams:', pitchgram.shape\n",
      "print 'shape of chords:', chords.shape"
     ],
     "language": "python",
     "outputs": [
      {
       "output_type": "stream",
       "stream": "stdout",
       "text": [
        "shape of pitchgrams: (648, 84)\n",
        "shape of chords: (648,)\n"
       ]
      }
     ],
     "prompt_number": 128
    },
    {
     "cell_type": "markdown",
     "source": [
      "If we plot a subsection (from the 32nd to the 64th beat, C2 to C6) of the pitchgram against the chord labels we can confirm that our pitchgrams and chords are in fact aligned."
     ]
    },
    {
     "cell_type": "code",
     "collapsed": false,
     "input": [
      "helpers.plot_with_notes_and_chords(pitchgram, chords, min_time=32, max_time=64, min_pitch=12*2, max_pitch=12*6)"
     ],
     "language": "python",
     "outputs": [
      {
       "output_type": "display_data",
       "png": "[encoded data removed]",
       "text": [
        "<matplotlib.figure.Figure at 0x7f5f599ab210>"
       ]
      }
     ],
     "prompt_number": 127
    },
    {
     "cell_type": "heading",
     "level": 2,
     "source": [
      "A simple softmax"
     ]
    },
    {
     "cell_type": "markdown",
     "source": [
      "As an initial baseline, we'll train a simple softmax model. First we need to flatten the data to a single pitchgram and a single chord vector."
     ]
    },
    {
     "cell_type": "code",
     "collapsed": false,
     "input": [
      "flat_len = sum(len(p) for p, c in data)\n",
      "flat_pg = np.zeros((flat_len, data[0][0].shape[1]))\n",
      "flat_chords = np.zeros(flat_len)\n",
      "i = 0\n",
      "for p, c in data:\n",
      "    flat_pg[i:i + len(p)] = p\n",
      "    flat_chords[i: i + len(p)] = c\n",
      "    i += len(p)\n",
      "\n",
      "print flat_pg.shape"
     ],
     "language": "python",
     "outputs": [
      {
       "output_type": "stream",
       "stream": "stdout",
       "text": [
        "(344766, 84)\n"
       ]
      }
     ],
     "prompt_number": 134
    },
    {
     "cell_type": "code",
     "collapsed": false,
     "input": [
      "class LogisticRegression(object):\n",
      "    def __init__(self, input, n_in, n_out):\n",
      "        self.W = theano.shared(np.zeros((n_in, n_out)), name='W', borrow=True)\n",
      "        self.b = theano.shared(np.zeros((n_out,)), name='b', borrow=True)\n",
      "        self.p_y_given_x = T.nnet.softmax(T.dot(input, self.W) + self.b)\n",
      "        self.y_pred = T.argmax(self.p_y_given_x, axis=1)\n",
      "        self.params = [self.W, self.b]\n",
      "\n",
      "    def negative_log_likelihood(self, y):\n",
      "        return -T.mean(T.log(self.p_y_given_x)[T.arange(y.shape[0]), y])\n",
      "\n",
      "    def errors(self, y):\n",
      "        return T.mean(T.neq(self.y_pred, y))"
     ],
     "language": "python",
     "outputs": []
    }
   ]
  }
 ]
}